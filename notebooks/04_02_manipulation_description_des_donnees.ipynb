{
 "cells": [
  {
   "cell_type": "markdown",
   "metadata": {},
   "source": [
    "# Chapitre 4 - La préparation des données et les premières statistiques (2ème partie)\n",
    "\n",
    "Avant de rentrer dans le détail de ce chapitre, nous allons commencer par charger les packages et importer les données nécessaies aux traitements."
   ]
  },
  {
   "cell_type": "code",
   "execution_count": 1,
   "metadata": {},
   "outputs": [],
   "source": [
    "import pandas as pd\n",
    "import numpy as np\n",
    "import matplotlib.pyplot as plt"
   ]
  },
  {
   "cell_type": "markdown",
   "metadata": {},
   "source": [
    "Données AirBnB"
   ]
  },
  {
   "cell_type": "code",
   "execution_count": 2,
   "metadata": {},
   "outputs": [],
   "source": [
    "# Import d'un extrait\n",
    "listing = pd.read_csv(\"../data/listing_extrait.csv\", index_col=0)\n",
    "calendar = pd.read_csv(\"../data/calendar_extrait.csv\",index_col=0)\n",
    "# Import du fichier complet\n",
    "#listing = pd.read_csv(\"https://www.stat4decision.com/listings.csv.gz\", index_col=0)\n",
    "#calendar = pd.read_csv(\"https://www.stat4decision.com/calendar.csv.gz\", index_col=0)\n"
   ]
  },
  {
   "cell_type": "markdown",
   "metadata": {},
   "source": [
    "Données sur les employés de la ville de Boston"
   ]
  },
  {
   "cell_type": "code",
   "execution_count": 3,
   "metadata": {},
   "outputs": [],
   "source": [
    "boston = pd.read_csv(\"../data/employee-earnings-report-2017.csv\")"
   ]
  },
  {
   "cell_type": "markdown",
   "metadata": {},
   "source": [
    "## 4.3 Décrire et transformer des colonnes\n",
    "### 4.3.1 D écrire la structure de vos données\n",
    "Quel que soit le type de structure que vous utilisez ; les arrays, les Series ou\n",
    "les DataFrame, on utilise généralement une propriété de ces objets : la propriété\n",
    "    .shape. Celle-ci renvoie toujours un tuple, qui aura autant d’éléments que de dimensions\n",
    "dans vos données."
   ]
  },
  {
   "cell_type": "code",
   "execution_count": 4,
   "metadata": {},
   "outputs": [
    {
     "data": {
      "text/plain": [
       "(10000, 6)"
      ]
     },
     "execution_count": 4,
     "metadata": {},
     "output_type": "execute_result"
    }
   ],
   "source": [
    "calendar.shape"
   ]
  },
  {
   "cell_type": "markdown",
   "metadata": {},
   "source": [
    "Cette information est importante mais reste peu détaillée. Lorsqu’on travaille sur\n",
    "un DataFrame, on va chercher à avoir beaucoup plus de détails. Pour cela, nous allons\n",
    "utiliser la méthode .info(). Si nous prenons le jeu de données des occupations des\n",
    "logements AirBnB, nous aurons :"
   ]
  },
  {
   "cell_type": "code",
   "execution_count": 5,
   "metadata": {},
   "outputs": [
    {
     "name": "stdout",
     "output_type": "stream",
     "text": [
      "<class 'pandas.core.frame.DataFrame'>\n",
      "Index: 10000 entries, 2577 to 9359\n",
      "Data columns (total 6 columns):\n",
      " #   Column          Non-Null Count  Dtype  \n",
      "---  ------          --------------  -----  \n",
      " 0   date            10000 non-null  object \n",
      " 1   available       10000 non-null  object \n",
      " 2   price           10000 non-null  object \n",
      " 3   adjusted_price  10000 non-null  object \n",
      " 4   minimum_nights  9995 non-null   float64\n",
      " 5   maximum_nights  9995 non-null   float64\n",
      "dtypes: float64(2), object(4)\n",
      "memory usage: 546.9+ KB\n"
     ]
    }
   ],
   "source": [
    "calendar.info()"
   ]
  },
  {
   "cell_type": "markdown",
   "metadata": {},
   "source": [
    "Une autre étape importante est l’étude de l’aspect de notre DataFrame, on peut\n",
    "par exemple afficher les premières lignes du jeu de données."
   ]
  },
  {
   "cell_type": "code",
   "execution_count": 6,
   "metadata": {
    "scrolled": true
   },
   "outputs": [
    {
     "data": {
      "text/html": [
       "<div>\n",
       "<style scoped>\n",
       "    .dataframe tbody tr th:only-of-type {\n",
       "        vertical-align: middle;\n",
       "    }\n",
       "\n",
       "    .dataframe tbody tr th {\n",
       "        vertical-align: top;\n",
       "    }\n",
       "\n",
       "    .dataframe thead th {\n",
       "        text-align: right;\n",
       "    }\n",
       "</style>\n",
       "<table border=\"1\" class=\"dataframe\">\n",
       "  <thead>\n",
       "    <tr style=\"text-align: right;\">\n",
       "      <th></th>\n",
       "      <th>date</th>\n",
       "      <th>available</th>\n",
       "      <th>price</th>\n",
       "      <th>adjusted_price</th>\n",
       "      <th>minimum_nights</th>\n",
       "      <th>maximum_nights</th>\n",
       "    </tr>\n",
       "    <tr>\n",
       "      <th>listing_id</th>\n",
       "      <th></th>\n",
       "      <th></th>\n",
       "      <th></th>\n",
       "      <th></th>\n",
       "      <th></th>\n",
       "      <th></th>\n",
       "    </tr>\n",
       "  </thead>\n",
       "  <tbody>\n",
       "    <tr>\n",
       "      <th>2577</th>\n",
       "      <td>2020-10-19</td>\n",
       "      <td>f</td>\n",
       "      <td>$125.00</td>\n",
       "      <td>$125.00</td>\n",
       "      <td>3.0</td>\n",
       "      <td>1125.0</td>\n",
       "    </tr>\n",
       "    <tr>\n",
       "      <th>73533</th>\n",
       "      <td>2020-10-20</td>\n",
       "      <td>t</td>\n",
       "      <td>$95.00</td>\n",
       "      <td>$95.00</td>\n",
       "      <td>2.0</td>\n",
       "      <td>1125.0</td>\n",
       "    </tr>\n",
       "    <tr>\n",
       "      <th>73533</th>\n",
       "      <td>2020-10-21</td>\n",
       "      <td>t</td>\n",
       "      <td>$95.00</td>\n",
       "      <td>$95.00</td>\n",
       "      <td>2.0</td>\n",
       "      <td>1125.0</td>\n",
       "    </tr>\n",
       "    <tr>\n",
       "      <th>73533</th>\n",
       "      <td>2020-10-22</td>\n",
       "      <td>t</td>\n",
       "      <td>$95.00</td>\n",
       "      <td>$95.00</td>\n",
       "      <td>2.0</td>\n",
       "      <td>1125.0</td>\n",
       "    </tr>\n",
       "    <tr>\n",
       "      <th>73533</th>\n",
       "      <td>2020-10-23</td>\n",
       "      <td>t</td>\n",
       "      <td>$95.00</td>\n",
       "      <td>$95.00</td>\n",
       "      <td>2.0</td>\n",
       "      <td>1125.0</td>\n",
       "    </tr>\n",
       "  </tbody>\n",
       "</table>\n",
       "</div>"
      ],
      "text/plain": [
       "                  date available    price adjusted_price  minimum_nights  \\\n",
       "listing_id                                                                 \n",
       "2577        2020-10-19         f  $125.00        $125.00             3.0   \n",
       "73533       2020-10-20         t   $95.00         $95.00             2.0   \n",
       "73533       2020-10-21         t   $95.00         $95.00             2.0   \n",
       "73533       2020-10-22         t   $95.00         $95.00             2.0   \n",
       "73533       2020-10-23         t   $95.00         $95.00             2.0   \n",
       "\n",
       "            maximum_nights  \n",
       "listing_id                  \n",
       "2577                1125.0  \n",
       "73533               1125.0  \n",
       "73533               1125.0  \n",
       "73533               1125.0  \n",
       "73533               1125.0  "
      ]
     },
     "execution_count": 6,
     "metadata": {},
     "output_type": "execute_result"
    }
   ],
   "source": [
    "calendar.head()"
   ]
  },
  {
   "cell_type": "markdown",
   "metadata": {},
   "source": [
    "Une autre propriété importante des DataFrame de Pandas est .columns. En effet, celle-ci a deux utilités :\n",
    "\n",
    "- afficher le nom des colonnes de votre DataFrame,\n",
    "- créer une structure permettant d’avoir une liste des colonnes que nous pourrons utiliser pour des automatisations."
   ]
  },
  {
   "cell_type": "code",
   "execution_count": 7,
   "metadata": {},
   "outputs": [
    {
     "data": {
      "text/plain": [
       "Index(['date', 'available', 'price', 'adjusted_price', 'minimum_nights',\n",
       "       'maximum_nights'],\n",
       "      dtype='object')"
      ]
     },
     "execution_count": 7,
     "metadata": {},
     "output_type": "execute_result"
    }
   ],
   "source": [
    "calendar.columns"
   ]
  },
  {
   "cell_type": "code",
   "execution_count": 8,
   "metadata": {},
   "outputs": [
    {
     "name": "stdout",
     "output_type": "stream",
     "text": [
      "date : object\n",
      "available : object\n",
      "price : object\n",
      "adjusted_price : object\n",
      "minimum_nights : float64\n",
      "maximum_nights : float64\n"
     ]
    }
   ],
   "source": [
    "# on peut faire une boucle sur les colonnes de notre DataFrame\n",
    "for col in calendar.columns:\n",
    "    print(col, calendar[col].dtype, sep=\" : \")"
   ]
  },
  {
   "cell_type": "markdown",
   "metadata": {},
   "source": [
    "### 4.3.2 Quelles transformations pour les colonnes de vos données ?"
   ]
  },
  {
   "cell_type": "markdown",
   "metadata": {},
   "source": [
    "Votre objectif en tant que data scientist est d’extraire le plus d’information possible de ces données. Pour cela, il va falloir les mettre en forme de manière intelligente. \n",
    "\n",
    "Nous allons étudier différentes transformations nécessaires pour travailler sur des données :\n",
    "\n",
    "- les changements de types,\n",
    "- les jointures,\n",
    "- la discrétisation,\n",
    "- le traitement de données temporelles,\n",
    "- les transformations numériques,\n",
    "- le traitement des colonnes avec des données qualitatives,\n",
    "- le traitement des données manquantes,\n",
    "- la construction de tableaux croisés."
   ]
  },
  {
   "cell_type": "markdown",
   "metadata": {},
   "source": [
    "### 4.3.3 Les changements de types\n",
    "\n",
    "Le typage des colonnes d’un DataFrame ou d’un array est très important pour tous les traitements en data science.\n",
    "\n",
    "Nous nous concentrons ici sur les structures en DataFrame de Pandas. Pandas va automatiquement inférer les types si vous ne lui avez pas spécifié de type à l’importation\n",
    "des données ou à la création du DataFrame.\n",
    "\n",
    "Par défaut, Pandas va utiliser trois types principaux :\n",
    "- les entiers int en 32 ou en 64 bits,\n",
    "- les nombres décimaux float en 32 ou 64 bits,\n",
    "- les objets object qui rassemblent la plupart des autres types.\n",
    "\n",
    "On trouvera aussi des booléens et tous les types définis par NumPy."
   ]
  },
  {
   "cell_type": "markdown",
   "metadata": {},
   "source": [
    "La base de données listing de AirBnB est obtenue par scrapping web et certaines informations ne peuvent pas être traitées directement. En effet, lorsqu’on affiche les\n",
    "informations sur les colonnes, on voit que la colonne price est typée en Object alors qu’il s’agit de valeurs décimales."
   ]
  },
  {
   "cell_type": "code",
   "execution_count": 9,
   "metadata": {},
   "outputs": [
    {
     "data": {
      "text/plain": [
       "id\n",
       "2577    $125.00\n",
       "3109     $60.00\n",
       "4886     $89.00\n",
       "4890    $103.00\n",
       "5396     $48.00\n",
       "Name: price, dtype: object"
      ]
     },
     "execution_count": 9,
     "metadata": {},
     "output_type": "execute_result"
    }
   ],
   "source": [
    "listing[\"price\"].head()"
   ]
  },
  {
   "cell_type": "markdown",
   "metadata": {},
   "source": [
    "Pour nous débarrasser du $ en première position, nous avons trois possibilités :"
   ]
  },
  {
   "cell_type": "code",
   "execution_count": 10,
   "metadata": {},
   "outputs": [
    {
     "name": "stdout",
     "output_type": "stream",
     "text": [
      "879 µs ± 25.2 µs per loop (mean ± std. dev. of 7 runs, 1,000 loops each)\n"
     ]
    }
   ],
   "source": [
    "# élimine le premier élément\n",
    "%timeit listing[\"price\"].str[1 :]"
   ]
  },
  {
   "cell_type": "code",
   "execution_count": 11,
   "metadata": {},
   "outputs": [
    {
     "name": "stdout",
     "output_type": "stream",
     "text": [
      "1.16 ms ± 101 µs per loop (mean ± std. dev. of 7 runs, 1,000 loops each)\n"
     ]
    }
   ],
   "source": [
    "# remplace tous les $\n",
    "%timeit listing[\"price\"].str.replace(\"$\",\"\")"
   ]
  },
  {
   "cell_type": "code",
   "execution_count": 12,
   "metadata": {},
   "outputs": [
    {
     "name": "stdout",
     "output_type": "stream",
     "text": [
      "963 µs ± 46.3 µs per loop (mean ± std. dev. of 7 runs, 1,000 loops each)\n"
     ]
    }
   ],
   "source": [
    "#élimine le premier élément lorsque c’est un $\n",
    "%timeit listing[\"price\"].str.strip(\"$\")"
   ]
  },
  {
   "cell_type": "markdown",
   "metadata": {},
   "source": [
    "On voit que ces trois approches sont assez différentes, la première est la plus\n",
    "efficace en termes de temps de calcul mais elle est aussi la plus dangereuse en cas\n",
    "d’erreur dans nos données."
   ]
  },
  {
   "cell_type": "markdown",
   "metadata": {},
   "source": [
    "Il reste deux étapes à réaliser : éliminer les virgules et transformer la variable en\n",
    "variable numérique :"
   ]
  },
  {
   "cell_type": "code",
   "execution_count": 13,
   "metadata": {},
   "outputs": [],
   "source": [
    "listing[\"price\"]= pd.to_numeric(listing[\"price\"].str.strip(\"$\").str.replace(\",\",\"\"))"
   ]
  },
  {
   "cell_type": "code",
   "execution_count": 14,
   "metadata": {},
   "outputs": [
    {
     "name": "stdout",
     "output_type": "stream",
     "text": [
      "float64\n"
     ]
    }
   ],
   "source": [
    "print(listing[\"price\"].dtype)"
   ]
  },
  {
   "cell_type": "markdown",
   "metadata": {},
   "source": [
    "Nous avons donc réussi à modifier notre colonne.\n",
    "\n",
    "Si nous désirons automatiser ce traitement, il suffit de créer une boucle sur les colonnes. On utilise le code suivant :"
   ]
  },
  {
   "cell_type": "code",
   "execution_count": 15,
   "metadata": {},
   "outputs": [
    {
     "name": "stdout",
     "output_type": "stream",
     "text": [
      "Les colonnes listing_url last_scraped name description neighborhood_overview picture_url host_url host_name host_since host_location host_about host_response_time host_response_rate host_acceptance_rate host_is_superhost host_thumbnail_url host_picture_url host_neighbourhood host_verifications host_has_profile_pic host_identity_verified neighbourhood neighbourhood_cleansed property_type room_type bathrooms_text amenities has_availability calendar_last_scraped first_review last_review license instant_bookable n'ont pas pu être transformées\n"
     ]
    }
   ],
   "source": [
    "list_error = []\n",
    "for col in listing.columns:\n",
    "    if listing[col].dtype==object :\n",
    "        try:\n",
    "            listing[col]= pd.to_numeric(listing[col].str.strip(\"$\")\\\n",
    "                                                .str.replace(\",\", \"\"))\n",
    "        except ValueError:\n",
    "            list_error.append(col)\n",
    "print(f\"Les colonnes {' '.join(list_error)} n'ont pas pu être transformées\")"
   ]
  },
  {
   "cell_type": "markdown",
   "metadata": {},
   "source": [
    "On a utilisé une gestion d'exception pour ne transformer que les colonnes qui nous intéressent."
   ]
  },
  {
   "cell_type": "markdown",
   "metadata": {},
   "source": [
    "Si on étudie la colonne \"instant_bookable\", on veut pouvoir prendre en compte cette colonne pour la passer en booléen :"
   ]
  },
  {
   "cell_type": "code",
   "execution_count": 16,
   "metadata": {},
   "outputs": [],
   "source": [
    "# approche avec NumPy\n",
    "listing[\"instant_bookable_bool\"] = np.where(\n",
    "    listing[\"instant_bookable\"]==\"f\", \n",
    "    False, \n",
    "    True)"
   ]
  },
  {
   "cell_type": "code",
   "execution_count": 17,
   "metadata": {},
   "outputs": [
    {
     "name": "stderr",
     "output_type": "stream",
     "text": [
      "C:\\Users\\ej\\AppData\\Local\\Temp\\ipykernel_17628\\1444826838.py:2: FutureWarning: Downcasting behavior in `replace` is deprecated and will be removed in a future version. To retain the old behavior, explicitly call `result.infer_objects(copy=False)`. To opt-in to the future behavior, set `pd.set_option('future.no_silent_downcasting', True)`\n",
      "  listing[\"instant_bookable_bool2\"]= listing[\"instant_bookable\"].replace(\n"
     ]
    }
   ],
   "source": [
    "# approche avec un dictionnaire et Pandas\n",
    "listing[\"instant_bookable_bool2\"]= listing[\"instant_bookable\"].replace(\n",
    "    {\"f\" : False,\"t\" : True}\n",
    ")"
   ]
  },
  {
   "cell_type": "markdown",
   "metadata": {},
   "source": [
    "On voit dans ce code que lorsqu’on veut remplacer deux valeurs, l’utilisation de la\n",
    "fonction np.where de NumPy peut être une solution, mais il faut être attentif aux\n",
    "risques liés à des mauvais codages de la variable.\n",
    "\n",
    "Il existe de nombreux cas de nettoyages de données basées sur des erreurs de\n",
    "typage. Ce que nous allons voir dans tout ce chapitre pourra vous aider à répondre à\n",
    "vos problématiques spécifiques."
   ]
  },
  {
   "cell_type": "markdown",
   "metadata": {},
   "source": [
    "### 4.3.4 Les jointures et concaténations\n",
    "#### Les jointures entre DataFrame\n",
    "\n",
    "Les jointures entre DataFrame sont un outil puissant de Pandas qui ressemble\n",
    "aux outils disponibles en SQL. Une jointure consiste à construire, à partir de deux\n",
    "DataFrame, un DataFrame en utilisant ce qu’on appelle une clé de jointure qui sera\n",
    "un identifiant des lignes présent dans les deux DataFrame initiaux."
   ]
  },
  {
   "cell_type": "markdown",
   "metadata": {},
   "source": [
    "La fonction de jointure de Pandas est la fonction pd.merge(). Elle prend comme\n",
    "paramètres deux objets DataFrame puis des paramètres optionnels :\n",
    "- on : choix de la ou des clés de jointure.\n",
    "- how : choix de la méthode de jointure. Il faut choisir entre left, right, inner et outer.\n",
    "- left_on (et right_on) : si les clés de jointure n’ont pas le même nom d’une table à une autre.\n",
    "- index_left (et index_right) : on donnera ici un booléen si l’index du DataFrame est utilisé comme clé.\n",
    "\n",
    "Sur les données AirBnB, nous utiliserons une jointure interne afin d’associer les\n",
    "calendriers des  logements :"
   ]
  },
  {
   "cell_type": "code",
   "execution_count": 18,
   "metadata": {},
   "outputs": [
    {
     "data": {
      "text/plain": [
       "(10000, 81)"
      ]
     },
     "execution_count": 18,
     "metadata": {},
     "output_type": "execute_result"
    }
   ],
   "source": [
    "global_airbnb = pd.merge(listing, \n",
    "                         calendar, \n",
    "                         left_index=True,\n",
    "                         right_index=True, \n",
    "                         how=\"inner\"\n",
    "                        )\n",
    "global_airbnb.shape"
   ]
  },
  {
   "cell_type": "markdown",
   "metadata": {},
   "source": [
    "On voit ici qu’on a rassemblé les colonnes des deux DataFrame. Dans ce cas, le\n",
    "DataFrame calendar est beaucoup plus grand que listing, le DataFrame obtenu ne\n",
    "rassemble que les clés communes aux deux DataFrame mais lorsqu’il y a plusieurs\n",
    "répétitions d’une clé, la combinaison est répétée."
   ]
  },
  {
   "cell_type": "markdown",
   "metadata": {},
   "source": [
    "### 4.3.4 La gestion des duplications de lignes\n",
    "\n",
    "Il arrive souvent dans des données que des lignes soient dupliquées par erreur ou que vous désiriez vérifier la duplication de certaines lignes.\n",
    "\n",
    "Pandas possède deux outils pour traiter ce type de données : duplicated() et drop_duplicated().\n",
    "\n",
    "Si nous voulons vérifier si des lignes sont dupliquées dans le DataFrame sur les employés de la ville de Boston, il nous suffit de faire :"
   ]
  },
  {
   "cell_type": "code",
   "execution_count": 19,
   "metadata": {},
   "outputs": [
    {
     "data": {
      "text/plain": [
       "0"
      ]
     },
     "execution_count": 19,
     "metadata": {},
     "output_type": "execute_result"
    }
   ],
   "source": [
    "boston.duplicated().sum()"
   ]
  },
  {
   "cell_type": "markdown",
   "metadata": {},
   "source": [
    "Il s’avère qu’il n’y a aucune duplication. Nous aurions pu nous concentrer uniquement\n",
    "sur le nom, le département et le titre des employés :"
   ]
  },
  {
   "cell_type": "code",
   "execution_count": 20,
   "metadata": {},
   "outputs": [
    {
     "data": {
      "text/plain": [
       "4"
      ]
     },
     "execution_count": 20,
     "metadata": {},
     "output_type": "execute_result"
    }
   ],
   "source": [
    "boston.duplicated(\n",
    "    ['NAME','DEPARTMENT NAME','TITLE']).sum()"
   ]
  },
  {
   "cell_type": "code",
   "execution_count": 21,
   "metadata": {},
   "outputs": [
    {
     "data": {
      "text/html": [
       "<div>\n",
       "<style scoped>\n",
       "    .dataframe tbody tr th:only-of-type {\n",
       "        vertical-align: middle;\n",
       "    }\n",
       "\n",
       "    .dataframe tbody tr th {\n",
       "        vertical-align: top;\n",
       "    }\n",
       "\n",
       "    .dataframe thead th {\n",
       "        text-align: right;\n",
       "    }\n",
       "</style>\n",
       "<table border=\"1\" class=\"dataframe\">\n",
       "  <thead>\n",
       "    <tr style=\"text-align: right;\">\n",
       "      <th></th>\n",
       "      <th>NAME</th>\n",
       "      <th>DEPARTMENT NAME</th>\n",
       "      <th>TITLE</th>\n",
       "      <th>REGULAR</th>\n",
       "      <th>RETRO</th>\n",
       "      <th>OTHER</th>\n",
       "      <th>OVERTIME</th>\n",
       "      <th>INJURED</th>\n",
       "      <th>DETAIL</th>\n",
       "      <th>QUINN/EDUCATION INCENTIVE</th>\n",
       "      <th>TOTAL EARNINGS</th>\n",
       "      <th>POSTAL</th>\n",
       "    </tr>\n",
       "  </thead>\n",
       "  <tbody>\n",
       "    <tr>\n",
       "      <th>608</th>\n",
       "      <td>Doherty,Brian J</td>\n",
       "      <td>Boston Police Department</td>\n",
       "      <td>Police Officer</td>\n",
       "      <td>$100,210.65</td>\n",
       "      <td>$1,491.90</td>\n",
       "      <td>$4,400.03</td>\n",
       "      <td>$14,576.76</td>\n",
       "      <td>NaN</td>\n",
       "      <td>$52,624.00</td>\n",
       "      <td>NaN</td>\n",
       "      <td>$173,303.34</td>\n",
       "      <td>2122</td>\n",
       "    </tr>\n",
       "    <tr>\n",
       "      <th>6097</th>\n",
       "      <td>McCarthy,Kevin M</td>\n",
       "      <td>Boston Fire Department</td>\n",
       "      <td>Fire Lieutenant</td>\n",
       "      <td>$133,038.18</td>\n",
       "      <td>NaN</td>\n",
       "      <td>$3,474.55</td>\n",
       "      <td>$14,578.21</td>\n",
       "      <td>NaN</td>\n",
       "      <td>$4,381.50</td>\n",
       "      <td>NaN</td>\n",
       "      <td>$155,472.44</td>\n",
       "      <td>2184</td>\n",
       "    </tr>\n",
       "    <tr>\n",
       "      <th>6504</th>\n",
       "      <td>McCarthy,Kevin M</td>\n",
       "      <td>Boston Fire Department</td>\n",
       "      <td>Fire Lieutenant</td>\n",
       "      <td>$57,947.80</td>\n",
       "      <td>NaN</td>\n",
       "      <td>$1,835.94</td>\n",
       "      <td>$22,557.60</td>\n",
       "      <td>$67,211.54</td>\n",
       "      <td>NaN</td>\n",
       "      <td>NaN</td>\n",
       "      <td>$149,552.88</td>\n",
       "      <td>2043</td>\n",
       "    </tr>\n",
       "    <tr>\n",
       "      <th>7871</th>\n",
       "      <td>Flynn,Robert</td>\n",
       "      <td>Boston Police Department</td>\n",
       "      <td>Police Officer</td>\n",
       "      <td>$91,822.47</td>\n",
       "      <td>$7,289.39</td>\n",
       "      <td>$4,853.52</td>\n",
       "      <td>$67,548.83</td>\n",
       "      <td>NaN</td>\n",
       "      <td>$828.00</td>\n",
       "      <td>NaN</td>\n",
       "      <td>$172,342.21</td>\n",
       "      <td>2124</td>\n",
       "    </tr>\n",
       "    <tr>\n",
       "      <th>11757</th>\n",
       "      <td>Kelly,Michael Joseph</td>\n",
       "      <td>Boston Fire Department</td>\n",
       "      <td>Fire Fighter</td>\n",
       "      <td>$105,118.72</td>\n",
       "      <td>NaN</td>\n",
       "      <td>$550.00</td>\n",
       "      <td>$9,273.38</td>\n",
       "      <td>NaN</td>\n",
       "      <td>NaN</td>\n",
       "      <td>NaN</td>\n",
       "      <td>$114,942.10</td>\n",
       "      <td>2122</td>\n",
       "    </tr>\n",
       "    <tr>\n",
       "      <th>16249</th>\n",
       "      <td>Kelly,Michael Joseph</td>\n",
       "      <td>Boston Fire Department</td>\n",
       "      <td>Fire Fighter</td>\n",
       "      <td>$83,457.62</td>\n",
       "      <td>NaN</td>\n",
       "      <td>$550.00</td>\n",
       "      <td>$13,921.51</td>\n",
       "      <td>$8,705.64</td>\n",
       "      <td>$19,408.00</td>\n",
       "      <td>NaN</td>\n",
       "      <td>$126,042.77</td>\n",
       "      <td>2132</td>\n",
       "    </tr>\n",
       "    <tr>\n",
       "      <th>16618</th>\n",
       "      <td>Flynn,Robert</td>\n",
       "      <td>Boston Police Department</td>\n",
       "      <td>Police Officer</td>\n",
       "      <td>$52,689.10</td>\n",
       "      <td>$1,411.01</td>\n",
       "      <td>$800.00</td>\n",
       "      <td>$19,674.52</td>\n",
       "      <td>$32,146.74</td>\n",
       "      <td>$28,198.00</td>\n",
       "      <td>NaN</td>\n",
       "      <td>$134,919.37</td>\n",
       "      <td>2122</td>\n",
       "    </tr>\n",
       "    <tr>\n",
       "      <th>17639</th>\n",
       "      <td>Doherty,Brian J</td>\n",
       "      <td>Boston Police Department</td>\n",
       "      <td>Police Officer</td>\n",
       "      <td>$76,901.21</td>\n",
       "      <td>$1,332.73</td>\n",
       "      <td>$800.00</td>\n",
       "      <td>$23,830.39</td>\n",
       "      <td>NaN</td>\n",
       "      <td>$36,616.00</td>\n",
       "      <td>NaN</td>\n",
       "      <td>$139,480.33</td>\n",
       "      <td>2124</td>\n",
       "    </tr>\n",
       "  </tbody>\n",
       "</table>\n",
       "</div>"
      ],
      "text/plain": [
       "                       NAME           DEPARTMENT NAME            TITLE  \\\n",
       "608         Doherty,Brian J  Boston Police Department   Police Officer   \n",
       "6097       McCarthy,Kevin M    Boston Fire Department  Fire Lieutenant   \n",
       "6504       McCarthy,Kevin M    Boston Fire Department  Fire Lieutenant   \n",
       "7871           Flynn,Robert  Boston Police Department   Police Officer   \n",
       "11757  Kelly,Michael Joseph    Boston Fire Department     Fire Fighter   \n",
       "16249  Kelly,Michael Joseph    Boston Fire Department     Fire Fighter   \n",
       "16618          Flynn,Robert  Boston Police Department   Police Officer   \n",
       "17639       Doherty,Brian J  Boston Police Department   Police Officer   \n",
       "\n",
       "            REGULAR       RETRO       OTHER     OVERTIME      INJURED  \\\n",
       "608    $100,210.65   $1,491.90   $4,400.03   $14,576.76           NaN   \n",
       "6097   $133,038.18          NaN  $3,474.55   $14,578.21           NaN   \n",
       "6504    $57,947.80          NaN  $1,835.94   $22,557.60   $67,211.54    \n",
       "7871    $91,822.47   $7,289.39   $4,853.52   $67,548.83           NaN   \n",
       "11757  $105,118.72          NaN    $550.00    $9,273.38           NaN   \n",
       "16249   $83,457.62          NaN    $550.00   $13,921.51    $8,705.64    \n",
       "16618   $52,689.10   $1,411.01     $800.00   $19,674.52   $32,146.74    \n",
       "17639   $76,901.21   $1,332.73     $800.00   $23,830.39           NaN   \n",
       "\n",
       "            DETAIL QUINN/EDUCATION INCENTIVE TOTAL EARNINGS POSTAL  \n",
       "608    $52,624.00                        NaN   $173,303.34    2122  \n",
       "6097    $4,381.50                        NaN   $155,472.44    2184  \n",
       "6504           NaN                       NaN   $149,552.88    2043  \n",
       "7871      $828.00                        NaN   $172,342.21    2124  \n",
       "11757          NaN                       NaN   $114,942.10    2122  \n",
       "16249  $19,408.00                        NaN   $126,042.77    2132  \n",
       "16618  $28,198.00                        NaN   $134,919.37    2122  \n",
       "17639  $36,616.00                        NaN   $139,480.33    2124  "
      ]
     },
     "execution_count": 21,
     "metadata": {},
     "output_type": "execute_result"
    }
   ],
   "source": [
    "# on a donc quatre éléments dupliqués, on peut maintenant les visualiser :\n",
    "boston[boston.duplicated(\n",
    "    ['NAME','DEPARTMENT NAME','TITLE'], \n",
    "    keep=False\n",
    ")]"
   ]
  },
  {
   "cell_type": "markdown",
   "metadata": {},
   "source": [
    "Nous pouvons maintenant nous débarrasser des duplications, on utilisera pour cela :"
   ]
  },
  {
   "cell_type": "code",
   "execution_count": 22,
   "metadata": {},
   "outputs": [],
   "source": [
    "boston_no_dup = boston.drop_duplicates(\n",
    "    ['NAME','DEPARTMENT NAME','TITLE'],\n",
    "    keep=\"first\"\n",
    ")"
   ]
  },
  {
   "cell_type": "markdown",
   "metadata": {},
   "source": [
    "\n",
    "Dans ce cas, on garde le premier. On peut demander à garder le dernier (last) et\n",
    "on utilisera des tris afin d’ordonner les résultats pour se débarrasser des duplications\n",
    "non pertinentes."
   ]
  },
  {
   "cell_type": "markdown",
   "metadata": {},
   "source": [
    "### 4.3.5 La discrétisation\n",
    "La discrétisation permet de transformer une variable quantitative (l’âge des\n",
    "individus par exemple) en une variable qualitative (une classe d’âge pour chaque individu). Pour cela, nous utilisons deux fonctions de Pandas : pd.cut() et\n",
    "pd.qcut()."
   ]
  },
  {
   "cell_type": "markdown",
   "metadata": {},
   "source": [
    "#### Intervalles constants\n",
    "Si nous désirons créer une variable de classe basée sur des intervalles de taille\n",
    "constante allant du minimum au maximum."
   ]
  },
  {
   "cell_type": "code",
   "execution_count": 23,
   "metadata": {},
   "outputs": [
    {
     "data": {
      "text/plain": [
       "id\n",
       "2577    (2.01, 1608.0]\n",
       "3109    (2.01, 1608.0]\n",
       "4886    (2.01, 1608.0]\n",
       "4890    (2.01, 1608.0]\n",
       "5396    (2.01, 1608.0]\n",
       "Name: price_disc1, dtype: category\n",
       "Categories (5, interval[float64, right]): [(2.01, 1608.0] < (1608.0, 3206.0] < (3206.0, 4804.0] < (4804.0, 6402.0] < (6402.0, 8000.0]]"
      ]
     },
     "execution_count": 23,
     "metadata": {},
     "output_type": "execute_result"
    }
   ],
   "source": [
    "listing[\"price_disc1\"] = pd.cut(listing[\"price\"], \n",
    "                                bins=5\n",
    "                               )\n",
    "listing[\"price_disc1\"].head()"
   ]
  },
  {
   "cell_type": "markdown",
   "metadata": {},
   "source": [
    "On voit ici que la nouvelle variable a comme valeurs les intervalles. \n",
    "\n",
    "Si vous voulez vérifier la répartition par intervalle, il suffit d’utiliser la méthode *.value_counts()* :"
   ]
  },
  {
   "cell_type": "code",
   "execution_count": 24,
   "metadata": {},
   "outputs": [
    {
     "data": {
      "text/plain": [
       "price_disc1\n",
       "(2.01, 1608.0]      4995\n",
       "(1608.0, 3206.0]       2\n",
       "(6402.0, 8000.0]       2\n",
       "(3206.0, 4804.0]       1\n",
       "(4804.0, 6402.0]       0\n",
       "Name: count, dtype: int64"
      ]
     },
     "execution_count": 24,
     "metadata": {},
     "output_type": "execute_result"
    }
   ],
   "source": [
    "listing[\"price_disc1\"].value_counts()"
   ]
  },
  {
   "cell_type": "markdown",
   "metadata": {},
   "source": [
    "Par ailleurs, si vous désirez donner des noms aux intervalles, vous pouvez le faire en utilisant le paramètre *labels=* de la fonction *cut()* :"
   ]
  },
  {
   "cell_type": "code",
   "execution_count": 25,
   "metadata": {},
   "outputs": [],
   "source": [
    "listing[\"price_disc1\"]=pd.cut(listing[\"price\"], \n",
    "                              bins=5, \n",
    "                              labels=range(5)\n",
    "                             )"
   ]
  },
  {
   "cell_type": "markdown",
   "metadata": {},
   "source": [
    "#### Intervalles définis par l’utilisateur\n",
    "Si vous désirez créer des intervalles sur mesure, il vous suffit de donner les bornes\n",
    "de ces intervalles. On utilise :"
   ]
  },
  {
   "cell_type": "code",
   "execution_count": 26,
   "metadata": {},
   "outputs": [
    {
     "data": {
      "text/plain": [
       "price_disc2\n",
       "(50.0, 100.0]      2425\n",
       "(100.0, 500.0]     1873\n",
       "(9.999, 50.0]       646\n",
       "(500.0, 8000.0]      56\n",
       "Name: count, dtype: int64"
      ]
     },
     "execution_count": 26,
     "metadata": {},
     "output_type": "execute_result"
    }
   ],
   "source": [
    "listing[\"price_disc2\"]=pd.cut(\n",
    "    listing[\"price\"], \n",
    "    bins=[listing[\"price\"].min(), \n",
    "          50,\n",
    "          100,\n",
    "          500,\n",
    "          listing[\"price\"].max()\n",
    "         ],\n",
    "    include_lowest = True)\n",
    "listing[\"price_disc2\"].value_counts()"
   ]
  },
  {
   "cell_type": "markdown",
   "metadata": {},
   "source": [
    "On remplace donc le nombre d’intervalles par une liste de valeurs (ici on prend le minimum et le maximum des données). \n",
    "\n",
    "Afin d’inclure le minimum, on ajoute *include_lowest=True*."
   ]
  },
  {
   "cell_type": "markdown",
   "metadata": {},
   "source": [
    "#### Intervalles de fréquence constante\n",
    "\n",
    "Il est souvent intéressant de construire des intervalles ayant un nombre d’individus constant d’une classe à une autre. \n",
    "\n",
    "Pour cela, on va utiliser une autre fonction de Pandas nommée *qcut()*. Elle prend le même type de paramètres que la\n",
    "fonction précédente mais elle va créer des classes de taille similaire (en nombre d’individus) :"
   ]
  },
  {
   "cell_type": "code",
   "execution_count": 27,
   "metadata": {},
   "outputs": [
    {
     "data": {
      "text/plain": [
       "price_disc3\n",
       "(9.999, 60.0]      1115\n",
       "(60.0, 80.0]       1093\n",
       "(100.0, 150.0]     1037\n",
       "(150.0, 8000.0]     892\n",
       "(80.0, 100.0]       863\n",
       "Name: count, dtype: int64"
      ]
     },
     "execution_count": 27,
     "metadata": {},
     "output_type": "execute_result"
    }
   ],
   "source": [
    "listing[\"price_disc3\"]=pd.qcut(listing[\"price\"],\n",
    "                               q=5\n",
    "                              )\n",
    "listing[\"price_disc3\"].value_counts()"
   ]
  },
  {
   "cell_type": "markdown",
   "metadata": {},
   "source": [
    "Pandas a fait de son mieux pour bien distribuer les données dans les intervalles.\n",
    "Comme il y a beaucoup de prix égaux, il n’a pas pu obtenir des intervalles avec des\n",
    "fréquences parfaitement égales."
   ]
  },
  {
   "cell_type": "markdown",
   "metadata": {},
   "source": [
    "### 4.3.6 Les tris\n",
    "Les tris sont des outils importants en data science. Il vous arrive très fréquemment de vouloir trier des données. Chaque package possède des outils de tris, nous allons\n",
    "en étudier deux : celui de NumPy et celui de Pandas."
   ]
  },
  {
   "cell_type": "markdown",
   "metadata": {},
   "source": [
    "#### Le tri de NumPy\n",
    "Si nous restons sur un array de NumPy dans son sens le plus classique, celui-ci contient une méthode .sort() qui s’applique très bien sur un array à une seule dimension, on pourra avoir :"
   ]
  },
  {
   "cell_type": "code",
   "execution_count": 28,
   "metadata": {},
   "outputs": [],
   "source": [
    "array1 = np.random.randn(5000)\n",
    "array1.sort()"
   ]
  },
  {
   "cell_type": "markdown",
   "metadata": {},
   "source": [
    "Cette méthode modifie l’array1 et trie de manière croissante. \n",
    "\n",
    "Si on désire faire un tri décroissant, on pourra utiliser :"
   ]
  },
  {
   "cell_type": "code",
   "execution_count": 29,
   "metadata": {},
   "outputs": [],
   "source": [
    "array1[::-1].sort()"
   ]
  },
  {
   "cell_type": "markdown",
   "metadata": {},
   "source": [
    "Comme vous le voyez, cette méthode n’est pas très efficace pour faire des tris\n",
    "complexes. On utilisera une autre méthode nommée .argsort() :"
   ]
  },
  {
   "cell_type": "code",
   "execution_count": 30,
   "metadata": {},
   "outputs": [
    {
     "data": {
      "text/plain": [
       "array([[1.47931070e-01, 2.79523851e-04, 2.00596625e-01, ...,\n",
       "        9.36624129e-01, 4.24073854e-02, 2.54724475e-01],\n",
       "       [4.59461346e-01, 5.56978552e-04, 1.64319044e-01, ...,\n",
       "        8.52283579e-01, 3.44501560e-01, 4.38877635e-01],\n",
       "       [2.55188171e-01, 6.17088074e-04, 8.16815376e-01, ...,\n",
       "        8.06731638e-01, 3.54342774e-01, 5.07443153e-01],\n",
       "       ...,\n",
       "       [7.05807098e-01, 9.98835966e-01, 5.75554916e-01, ...,\n",
       "        3.88447897e-02, 3.72513476e-01, 4.00389814e-01],\n",
       "       [8.13064760e-01, 9.99599776e-01, 5.24067612e-01, ...,\n",
       "        2.37733218e-01, 4.21157667e-01, 4.18120133e-01],\n",
       "       [1.41582292e-01, 9.99669751e-01, 1.36930587e-01, ...,\n",
       "        7.23129973e-01, 8.65586940e-01, 6.80687819e-01]])"
      ]
     },
     "execution_count": 30,
     "metadata": {},
     "output_type": "execute_result"
    }
   ],
   "source": [
    "table = np.random.rand(5000, 10)\n",
    "table[table[:,1].argsort()]"
   ]
  },
  {
   "cell_type": "markdown",
   "metadata": {},
   "source": [
    "On trie donc sur la seconde colonne de notre array. On peut alors retourner le\n",
    "résultat de ce tri.\n",
    "Le tri basé sur .argsort() est extrêmement efficace mais s’applique avant tout\n",
    "à un array."
   ]
  },
  {
   "cell_type": "markdown",
   "metadata": {},
   "source": [
    "#### Le tri de Pandas\n",
    "Pandas possède une fonction de tri sur les DataFrames extrêmement efficace qui se rapproche beaucoup d’une approche SQL des tris. Elle a de nombreux paramètres et permet de trier sur plusieurs clés dans des sens différents.\n",
    "\n",
    "Si nous prenons nos données sur les logements AirBnB, nous désirons trier les données par ordre croissant de nombre de chambres, puis par niveau de prix décroissant.\n",
    "\n",
    "Pour cela, une seule ligne de code est nécessaire :"
   ]
  },
  {
   "cell_type": "code",
   "execution_count": 31,
   "metadata": {},
   "outputs": [
    {
     "data": {
      "text/html": [
       "<div>\n",
       "<style scoped>\n",
       "    .dataframe tbody tr th:only-of-type {\n",
       "        vertical-align: middle;\n",
       "    }\n",
       "\n",
       "    .dataframe tbody tr th {\n",
       "        vertical-align: top;\n",
       "    }\n",
       "\n",
       "    .dataframe thead th {\n",
       "        text-align: right;\n",
       "    }\n",
       "</style>\n",
       "<table border=\"1\" class=\"dataframe\">\n",
       "  <thead>\n",
       "    <tr style=\"text-align: right;\">\n",
       "      <th></th>\n",
       "      <th>listing_url</th>\n",
       "      <th>scrape_id</th>\n",
       "      <th>last_scraped</th>\n",
       "      <th>name</th>\n",
       "      <th>description</th>\n",
       "      <th>neighborhood_overview</th>\n",
       "      <th>picture_url</th>\n",
       "      <th>host_id</th>\n",
       "      <th>host_url</th>\n",
       "      <th>host_name</th>\n",
       "      <th>...</th>\n",
       "      <th>calculated_host_listings_count</th>\n",
       "      <th>calculated_host_listings_count_entire_homes</th>\n",
       "      <th>calculated_host_listings_count_private_rooms</th>\n",
       "      <th>calculated_host_listings_count_shared_rooms</th>\n",
       "      <th>reviews_per_month</th>\n",
       "      <th>instant_bookable_bool</th>\n",
       "      <th>instant_bookable_bool2</th>\n",
       "      <th>price_disc1</th>\n",
       "      <th>price_disc2</th>\n",
       "      <th>price_disc3</th>\n",
       "    </tr>\n",
       "    <tr>\n",
       "      <th>id</th>\n",
       "      <th></th>\n",
       "      <th></th>\n",
       "      <th></th>\n",
       "      <th></th>\n",
       "      <th></th>\n",
       "      <th></th>\n",
       "      <th></th>\n",
       "      <th></th>\n",
       "      <th></th>\n",
       "      <th></th>\n",
       "      <th></th>\n",
       "      <th></th>\n",
       "      <th></th>\n",
       "      <th></th>\n",
       "      <th></th>\n",
       "      <th></th>\n",
       "      <th></th>\n",
       "      <th></th>\n",
       "      <th></th>\n",
       "      <th></th>\n",
       "      <th></th>\n",
       "    </tr>\n",
       "  </thead>\n",
       "  <tbody>\n",
       "    <tr>\n",
       "      <th>243040</th>\n",
       "      <td>https://www.airbnb.com/rooms/243040</td>\n",
       "      <td>20201012032825</td>\n",
       "      <td>2020-10-21</td>\n",
       "      <td>Apart Hotel / Paris Opera Madeleine</td>\n",
       "      <td>&lt;b&gt;The space&lt;/b&gt;&lt;br /&gt;Home Suite Home @ paris ...</td>\n",
       "      <td>NaN</td>\n",
       "      <td>https://a0.muscache.com/pictures/2306504/b7a67...</td>\n",
       "      <td>1275649</td>\n",
       "      <td>https://www.airbnb.com/users/show/1275649</td>\n",
       "      <td>Gwenael</td>\n",
       "      <td>...</td>\n",
       "      <td>2</td>\n",
       "      <td>2</td>\n",
       "      <td>0</td>\n",
       "      <td>0</td>\n",
       "      <td>0.52</td>\n",
       "      <td>False</td>\n",
       "      <td>False</td>\n",
       "      <td>4</td>\n",
       "      <td>(500.0, 8000.0]</td>\n",
       "      <td>(150.0, 8000.0]</td>\n",
       "    </tr>\n",
       "    <tr>\n",
       "      <th>245715</th>\n",
       "      <td>https://www.airbnb.com/rooms/245715</td>\n",
       "      <td>20201012032825</td>\n",
       "      <td>2020-10-21</td>\n",
       "      <td>Apart Hotel, Paris Champs Elysee</td>\n",
       "      <td>&lt;b&gt;The space&lt;/b&gt;&lt;br /&gt;@ Home Suite Home Paris ...</td>\n",
       "      <td>NaN</td>\n",
       "      <td>https://a0.muscache.com/pictures/23451178/47bc...</td>\n",
       "      <td>1275649</td>\n",
       "      <td>https://www.airbnb.com/users/show/1275649</td>\n",
       "      <td>Gwenael</td>\n",
       "      <td>...</td>\n",
       "      <td>2</td>\n",
       "      <td>2</td>\n",
       "      <td>0</td>\n",
       "      <td>0</td>\n",
       "      <td>0.61</td>\n",
       "      <td>False</td>\n",
       "      <td>False</td>\n",
       "      <td>4</td>\n",
       "      <td>(500.0, 8000.0]</td>\n",
       "      <td>(150.0, 8000.0]</td>\n",
       "    </tr>\n",
       "    <tr>\n",
       "      <th>1826605</th>\n",
       "      <td>https://www.airbnb.com/rooms/1826605</td>\n",
       "      <td>20201012032825</td>\n",
       "      <td>2020-10-17</td>\n",
       "      <td>2 beds, 40 m2 flat near Canal Saint Martin</td>\n",
       "      <td>Bright apartment, fitted kitchen, close to all...</td>\n",
       "      <td>NaN</td>\n",
       "      <td>https://a0.muscache.com/pictures/4198ce40-6fdd...</td>\n",
       "      <td>9557903</td>\n",
       "      <td>https://www.airbnb.com/users/show/9557903</td>\n",
       "      <td>Thierry</td>\n",
       "      <td>...</td>\n",
       "      <td>1</td>\n",
       "      <td>1</td>\n",
       "      <td>0</td>\n",
       "      <td>0</td>\n",
       "      <td>1.24</td>\n",
       "      <td>False</td>\n",
       "      <td>False</td>\n",
       "      <td>0</td>\n",
       "      <td>(500.0, 8000.0]</td>\n",
       "      <td>(150.0, 8000.0]</td>\n",
       "    </tr>\n",
       "    <tr>\n",
       "      <th>1206047</th>\n",
       "      <td>https://www.airbnb.com/rooms/1206047</td>\n",
       "      <td>20201012032825</td>\n",
       "      <td>2020-10-17</td>\n",
       "      <td>Charming apartment in Paris 20</td>\n",
       "      <td>&lt;b&gt;The space&lt;/b&gt;&lt;br /&gt;Charming apartment in Mé...</td>\n",
       "      <td>NaN</td>\n",
       "      <td>https://a0.muscache.com/pictures/18144015/ae0d...</td>\n",
       "      <td>2255607</td>\n",
       "      <td>https://www.airbnb.com/users/show/2255607</td>\n",
       "      <td>Baptiste</td>\n",
       "      <td>...</td>\n",
       "      <td>1</td>\n",
       "      <td>1</td>\n",
       "      <td>0</td>\n",
       "      <td>0</td>\n",
       "      <td>NaN</td>\n",
       "      <td>False</td>\n",
       "      <td>False</td>\n",
       "      <td>0</td>\n",
       "      <td>(500.0, 8000.0]</td>\n",
       "      <td>(150.0, 8000.0]</td>\n",
       "    </tr>\n",
       "    <tr>\n",
       "      <th>1248036</th>\n",
       "      <td>https://www.airbnb.com/rooms/1248036</td>\n",
       "      <td>20201012032825</td>\n",
       "      <td>2020-10-18</td>\n",
       "      <td>Appartement définitivement indisponible.</td>\n",
       "      <td>Appartement définitivement indisponible et ann...</td>\n",
       "      <td>Appartement définitivement indisponible et ann...</td>\n",
       "      <td>https://a0.muscache.com/pictures/18803340/7edc...</td>\n",
       "      <td>6800881</td>\n",
       "      <td>https://www.airbnb.com/users/show/6800881</td>\n",
       "      <td>Laure-Line</td>\n",
       "      <td>...</td>\n",
       "      <td>1</td>\n",
       "      <td>1</td>\n",
       "      <td>0</td>\n",
       "      <td>0</td>\n",
       "      <td>0.01</td>\n",
       "      <td>False</td>\n",
       "      <td>False</td>\n",
       "      <td>0</td>\n",
       "      <td>(500.0, 8000.0]</td>\n",
       "      <td>(150.0, 8000.0]</td>\n",
       "    </tr>\n",
       "  </tbody>\n",
       "</table>\n",
       "<p>5 rows × 78 columns</p>\n",
       "</div>"
      ],
      "text/plain": [
       "                                  listing_url       scrape_id last_scraped  \\\n",
       "id                                                                           \n",
       "243040    https://www.airbnb.com/rooms/243040  20201012032825   2020-10-21   \n",
       "245715    https://www.airbnb.com/rooms/245715  20201012032825   2020-10-21   \n",
       "1826605  https://www.airbnb.com/rooms/1826605  20201012032825   2020-10-17   \n",
       "1206047  https://www.airbnb.com/rooms/1206047  20201012032825   2020-10-17   \n",
       "1248036  https://www.airbnb.com/rooms/1248036  20201012032825   2020-10-18   \n",
       "\n",
       "                                               name  \\\n",
       "id                                                    \n",
       "243040          Apart Hotel / Paris Opera Madeleine   \n",
       "245715             Apart Hotel, Paris Champs Elysee   \n",
       "1826605  2 beds, 40 m2 flat near Canal Saint Martin   \n",
       "1206047              Charming apartment in Paris 20   \n",
       "1248036    Appartement définitivement indisponible.   \n",
       "\n",
       "                                               description  \\\n",
       "id                                                           \n",
       "243040   <b>The space</b><br />Home Suite Home @ paris ...   \n",
       "245715   <b>The space</b><br />@ Home Suite Home Paris ...   \n",
       "1826605  Bright apartment, fitted kitchen, close to all...   \n",
       "1206047  <b>The space</b><br />Charming apartment in Mé...   \n",
       "1248036  Appartement définitivement indisponible et ann...   \n",
       "\n",
       "                                     neighborhood_overview  \\\n",
       "id                                                           \n",
       "243040                                                 NaN   \n",
       "245715                                                 NaN   \n",
       "1826605                                                NaN   \n",
       "1206047                                                NaN   \n",
       "1248036  Appartement définitivement indisponible et ann...   \n",
       "\n",
       "                                               picture_url  host_id  \\\n",
       "id                                                                    \n",
       "243040   https://a0.muscache.com/pictures/2306504/b7a67...  1275649   \n",
       "245715   https://a0.muscache.com/pictures/23451178/47bc...  1275649   \n",
       "1826605  https://a0.muscache.com/pictures/4198ce40-6fdd...  9557903   \n",
       "1206047  https://a0.muscache.com/pictures/18144015/ae0d...  2255607   \n",
       "1248036  https://a0.muscache.com/pictures/18803340/7edc...  6800881   \n",
       "\n",
       "                                          host_url   host_name  ...  \\\n",
       "id                                                              ...   \n",
       "243040   https://www.airbnb.com/users/show/1275649     Gwenael  ...   \n",
       "245715   https://www.airbnb.com/users/show/1275649     Gwenael  ...   \n",
       "1826605  https://www.airbnb.com/users/show/9557903     Thierry  ...   \n",
       "1206047  https://www.airbnb.com/users/show/2255607    Baptiste  ...   \n",
       "1248036  https://www.airbnb.com/users/show/6800881  Laure-Line  ...   \n",
       "\n",
       "        calculated_host_listings_count  \\\n",
       "id                                       \n",
       "243040                               2   \n",
       "245715                               2   \n",
       "1826605                              1   \n",
       "1206047                              1   \n",
       "1248036                              1   \n",
       "\n",
       "        calculated_host_listings_count_entire_homes  \\\n",
       "id                                                    \n",
       "243040                                            2   \n",
       "245715                                            2   \n",
       "1826605                                           1   \n",
       "1206047                                           1   \n",
       "1248036                                           1   \n",
       "\n",
       "        calculated_host_listings_count_private_rooms  \\\n",
       "id                                                     \n",
       "243040                                             0   \n",
       "245715                                             0   \n",
       "1826605                                            0   \n",
       "1206047                                            0   \n",
       "1248036                                            0   \n",
       "\n",
       "        calculated_host_listings_count_shared_rooms reviews_per_month  \\\n",
       "id                                                                      \n",
       "243040                                            0              0.52   \n",
       "245715                                            0              0.61   \n",
       "1826605                                           0              1.24   \n",
       "1206047                                           0               NaN   \n",
       "1248036                                           0              0.01   \n",
       "\n",
       "        instant_bookable_bool instant_bookable_bool2 price_disc1  \\\n",
       "id                                                                 \n",
       "243040                  False                  False           4   \n",
       "245715                  False                  False           4   \n",
       "1826605                 False                  False           0   \n",
       "1206047                 False                  False           0   \n",
       "1248036                 False                  False           0   \n",
       "\n",
       "             price_disc2      price_disc3  \n",
       "id                                         \n",
       "243040   (500.0, 8000.0]  (150.0, 8000.0]  \n",
       "245715   (500.0, 8000.0]  (150.0, 8000.0]  \n",
       "1826605  (500.0, 8000.0]  (150.0, 8000.0]  \n",
       "1206047  (500.0, 8000.0]  (150.0, 8000.0]  \n",
       "1248036  (500.0, 8000.0]  (150.0, 8000.0]  \n",
       "\n",
       "[5 rows x 78 columns]"
      ]
     },
     "execution_count": 31,
     "metadata": {},
     "output_type": "execute_result"
    }
   ],
   "source": [
    "# on affiche uniquement les 5 premières lignes du résultat\n",
    "listing.sort_values([\"bedrooms\",\"price\"], ascending=[True, False]).head()"
   ]
  },
  {
   "cell_type": "markdown",
   "metadata": {},
   "source": [
    "On a donc bien un outil puissant basé sur des listes de clés. Comme dans le cas des jointures avec Pandas, lorsqu’on a plusieurs variables ou paramètres de tri, on les place dans une liste. \n",
    "\n",
    "Par défaut, le tri de Pandas trie par colonne avec le paramètre *axis=1*. Si vous désirez trier par ligne, vous pouvez changer ce paramètre.\n",
    "\n",
    "Pandas vous permet aussi d’effectuer des tris sur les index en utilisant .sort_index(). \n",
    "\n",
    "L’outil de tri de Pandas est moins performant en termes de rapidité d’exécution que le *.argsort()* de NumPy. Néanmoins, les possibilités plus grandes et le fait de travailler sur une structure plus complexe, telle que le DataFrame, nous confortent\n",
    "dans l’utilisation du tri de Pandas pour nos analyses."
   ]
  },
  {
   "cell_type": "markdown",
   "metadata": {},
   "source": [
    "### 4.3.7 Le traitement de données temporelles\n",
    "Python a de nombreux outils pour travailler sur des dates, notamment le package\n",
    "datetime nativement présent dans Python.\n",
    "\n",
    "#### Les dates avec NumPy\n",
    "\n",
    "Depuis peu, il est possible de travailler avec des dates à l’intérieur d’un array de NumPy (depuis NumPy 1.7). Ainsi la fonction np.datetime64 permet de créer des dates, et le type datetime est utilisable pour créer des arrays. On peut par exemple\n",
    "utiliser *arange()* pour générer une suite de semaines de janvier 2017 à janvier 2018 :"
   ]
  },
  {
   "cell_type": "code",
   "execution_count": 32,
   "metadata": {},
   "outputs": [
    {
     "data": {
      "text/plain": [
       "array(['2016-12-29', '2017-01-05', '2017-01-12', '2017-01-19',\n",
       "       '2017-01-26', '2017-02-02', '2017-02-09', '2017-02-16',\n",
       "       '2017-02-23', '2017-03-02', '2017-03-09', '2017-03-16',\n",
       "       '2017-03-23', '2017-03-30', '2017-04-06', '2017-04-13',\n",
       "       '2017-04-20', '2017-04-27', '2017-05-04', '2017-05-11',\n",
       "       '2017-05-18', '2017-05-25', '2017-06-01', '2017-06-08',\n",
       "       '2017-06-15', '2017-06-22', '2017-06-29', '2017-07-06',\n",
       "       '2017-07-13', '2017-07-20', '2017-07-27', '2017-08-03',\n",
       "       '2017-08-10', '2017-08-17', '2017-08-24', '2017-08-31',\n",
       "       '2017-09-07', '2017-09-14', '2017-09-21', '2017-09-28',\n",
       "       '2017-10-05', '2017-10-12', '2017-10-19', '2017-10-26',\n",
       "       '2017-11-02', '2017-11-09', '2017-11-16', '2017-11-23',\n",
       "       '2017-11-30', '2017-12-07', '2017-12-14', '2017-12-21'],\n",
       "      dtype='datetime64[W]')"
      ]
     },
     "execution_count": 32,
     "metadata": {},
     "output_type": "execute_result"
    }
   ],
   "source": [
    "np.arange(\"2017-01-01\",\"2018-01-01\", dtype=\"datetime64[W]\")"
   ]
  },
  {
   "cell_type": "markdown",
   "metadata": {},
   "source": [
    "Il existe de nombreuses fonctions permettant de travailler sur les dates, notamment avec les différences basées sur la fonction timedelta().\n",
    "On peut aussi travailler sur les jours travaillés (business days). Cette partie de NumPy est en constante évolution. La documentation de NumPy est le meilleur outil pour en suivre les avancées."
   ]
  },
  {
   "cell_type": "markdown",
   "metadata": {},
   "source": [
    "#### Les dates avec Pandas\n",
    "C'est clairement Pandas qui a l'ascendant sur le traitement des dates en data science. Avec des fonctions efficaces et simples à prendre en main, le travail sur les dates est extrêmement simplifié.\n",
    "\n",
    "Pandas possède de sérieux atouts dans la prise en compte des dates notamment avec l’intégration des formats de dates dans l’importation des données. Néanmoins, si vos données n’ont pas été correctement importées, il est très simple de transformer des chaînes de caractères dans un DataFrame ou dans une Series en dates. Pour cela, on utilise :"
   ]
  },
  {
   "cell_type": "code",
   "execution_count": 33,
   "metadata": {},
   "outputs": [
    {
     "data": {
      "text/plain": [
       "DatetimeIndex(['2017-12-11', '2018-01-05'], dtype='datetime64[ns]', freq=None)"
      ]
     },
     "execution_count": 33,
     "metadata": {},
     "output_type": "execute_result"
    }
   ],
   "source": [
    "pd.to_datetime(['11/12/2017', '05-01-2018'], \n",
    "               dayfirst=True, \n",
    "               format='mixed')"
   ]
  },
  {
   "cell_type": "markdown",
   "metadata": {},
   "source": [
    "On crée ainsi un DatetimeIndex qui peut être utilisé dans une Series ou dans\n",
    "un DataFrame. On peut aussi donner un format de dates en utilisant le paramètre *format=*.\n",
    "\n",
    "Il est souvent intéressant de traiter de nombreuses dates. On a très souvent envie de générer des suites de dates de manière automatique. Imaginons que nous avons des données quotidiennes de cotation d’un indice boursier, et que nous désirons\n",
    "transformer ces données en une série indexée sur les jours ouvrés pendant lesquels la banque est ouverte. Les données pour l’année sont stockées dans un array."
   ]
  },
  {
   "cell_type": "code",
   "execution_count": 34,
   "metadata": {},
   "outputs": [
    {
     "data": {
      "text/plain": [
       "<Axes: >"
      ]
     },
     "execution_count": 34,
     "metadata": {},
     "output_type": "execute_result"
    },
    {
     "data": {
      "image/png": "[encoded data removed]",
      "text/plain": [
       "<Figure size 640x480 with 1 Axes>"
      ]
     },
     "metadata": {},
     "output_type": "display_data"
    }
   ],
   "source": [
    "index_ouverture = pd.bdate_range('2017-01-01','2017-12-31')\n",
    "data = np.random.randn(index_ouverture.size)\n",
    "pd.Series(data, index=index_ouverture).plot()"
   ]
  },
  {
   "cell_type": "markdown",
   "metadata": {},
   "source": [
    "On peut aussi utiliser date_range() avec différents paramètres. Si par exemple,\n",
    "on désire générer un index avec des relevés toutes les 2 heures entre le 1er février\n",
    "2018 à 8h00 et le 31 mars 2018 à 8h00, on utilisera :"
   ]
  },
  {
   "cell_type": "code",
   "execution_count": 35,
   "metadata": {},
   "outputs": [
    {
     "name": "stdout",
     "output_type": "stream",
     "text": [
      "(697,) datetime64[ns]\n"
     ]
    }
   ],
   "source": [
    "index_temps = pd.date_range('2018-02-01 08:00:00','2018-03-31 08:00:00', freq='2h')\n",
    "print(index_temps.shape, index_temps.dtype)"
   ]
  },
  {
   "cell_type": "markdown",
   "metadata": {},
   "source": [
    "De nombreuses possibilités sont accessibles pour le traitement des dates et des heures. \n",
    "\n",
    "Ainsi, si plutôt que des dates et des heures, vous préférez utiliser des périodes (ceci revient à utiliser un mois plutôt que le premier jour du mois comme valeur de votre index), vous pouvez le faire avec la fonction period_range()."
   ]
  },
  {
   "cell_type": "code",
   "execution_count": 36,
   "metadata": {},
   "outputs": [
    {
     "data": {
      "text/plain": [
       "PeriodIndex(['2017-01', '2017-02', '2017-03', '2017-04', '2017-05', '2017-06',\n",
       "             '2017-07', '2017-08', '2017-09', '2017-10', '2017-11', '2017-12',\n",
       "             '2018-01'],\n",
       "            dtype='period[M]')"
      ]
     },
     "execution_count": 36,
     "metadata": {},
     "output_type": "execute_result"
    }
   ],
   "source": [
    "pd.period_range(\"01-01-2017\",\"01-01-2018\", freq=\"M\")"
   ]
  },
  {
   "cell_type": "markdown",
   "metadata": {},
   "source": [
    "On a ainsi généré une suite de mois. Ceci peut se faire sur des semaines (W), des trimestres (Q), des années (A)…\n",
    "\n",
    "Si on désire générer des périodes, on pourra le faire grâce à pd.period() :"
   ]
  },
  {
   "cell_type": "code",
   "execution_count": 37,
   "metadata": {},
   "outputs": [
    {
     "data": {
      "text/plain": [
       "PeriodIndex(['2017Q1', '2017Q2', '2017Q3', '2017Q4', '2018Q1', '2018Q2',\n",
       "             '2018Q3', '2018Q4', '2019Q1'],\n",
       "            dtype='period[Q-DEC]')"
      ]
     },
     "execution_count": 37,
     "metadata": {},
     "output_type": "execute_result"
    }
   ],
   "source": [
    "pd.period_range(pd.Period(\"2017-01\", freq=\"M\"), pd.Period(\"2019-01\", freq=\"M\"), freq=\"Q\")"
   ]
  },
  {
   "cell_type": "markdown",
   "metadata": {},
   "source": [
    "Par ailleurs, vous pouvez traiter les fuseaux horaires de manière simplifiée avec\n",
    "Pandas en utilisant la propriété .tz. Par défaut, une date n’est associée à aucune\n",
    "timezone :"
   ]
  },
  {
   "cell_type": "code",
   "execution_count": 38,
   "metadata": {},
   "outputs": [
    {
     "data": {
      "text/plain": [
       "True"
      ]
     },
     "execution_count": 38,
     "metadata": {},
     "output_type": "execute_result"
    }
   ],
   "source": [
    "index_temps.tz is None"
   ]
  },
  {
   "cell_type": "markdown",
   "metadata": {},
   "source": [
    "Pour définir un fuseau horaire, on le fait généralement dans la fonction date_range(), qui a un paramètre tz = . Les fuseaux horaires peuvent être définis, avec\n",
    "une chaîne de caractères incluant une combinaison zone/ville (\"Europe/Paris\"), vous pouvez en obtenir la liste exhaustive en important :"
   ]
  },
  {
   "cell_type": "code",
   "execution_count": 39,
   "metadata": {},
   "outputs": [
    {
     "data": {
      "text/plain": [
       "['Africa/Abidjan',\n",
       " 'Africa/Accra',\n",
       " 'Africa/Addis_Ababa',\n",
       " 'Africa/Algiers',\n",
       " 'Africa/Asmara',\n",
       " 'Africa/Asmera',\n",
       " 'Africa/Bamako',\n",
       " 'Africa/Bangui',\n",
       " 'Africa/Banjul',\n",
       " 'Africa/Bissau']"
      ]
     },
     "execution_count": 39,
     "metadata": {},
     "output_type": "execute_result"
    }
   ],
   "source": [
    "from pytz import common_timezones, all_timezones\n",
    "all_timezones[:10]"
   ]
  },
  {
   "cell_type": "markdown",
   "metadata": {},
   "source": [
    "Si vous avez déjà défini vos dates et que vous désirez leur ajouter un fuseau horaire, vous allez utiliser la méthode tz_localize(). Imaginons que l’on génère\n",
    "des données toutes les deux heures à Paris, on veut transformer cet index en passant sur le fuseau horaire de Nouméa en Nouvelle-Calédonie, voici le code :"
   ]
  },
  {
   "cell_type": "code",
   "execution_count": 40,
   "metadata": {},
   "outputs": [
    {
     "data": {
      "text/plain": [
       "DatetimeIndex(['2018-01-01 09:00:00+01:00', '2018-01-01 11:00:00+01:00',\n",
       "               '2018-01-01 13:00:00+01:00', '2018-01-01 15:00:00+01:00',\n",
       "               '2018-01-01 17:00:00+01:00'],\n",
       "              dtype='datetime64[ns, Europe/Paris]', freq=None)"
      ]
     },
     "execution_count": 40,
     "metadata": {},
     "output_type": "execute_result"
    }
   ],
   "source": [
    "index_heures=pd.date_range(\"2018-01-01 09:00:00\", \"2018-01-01 18:00:00\", freq=\"2h\")\n",
    "index_heures_paris = index_heures.tz_localize(\"Europe/Paris\")\n",
    "index_heures_paris"
   ]
  },
  {
   "cell_type": "code",
   "execution_count": 41,
   "metadata": {},
   "outputs": [
    {
     "data": {
      "text/plain": [
       "DatetimeIndex(['2018-01-01 19:00:00+11:00', '2018-01-01 21:00:00+11:00',\n",
       "               '2018-01-01 23:00:00+11:00', '2018-01-02 01:00:00+11:00',\n",
       "               '2018-01-02 03:00:00+11:00'],\n",
       "              dtype='datetime64[ns, Pacific/Noumea]', freq=None)"
      ]
     },
     "execution_count": 41,
     "metadata": {},
     "output_type": "execute_result"
    }
   ],
   "source": [
    "index_heures_noumea = index_heures_paris.tz_convert(\"Pacific/Noumea\")\n",
    "index_heures_noumea"
   ]
  },
  {
   "cell_type": "markdown",
   "metadata": {},
   "source": [
    "Il existe de nombreux autres outils pour travailler sur les dates en Python.\n",
    "Notamment, lorsqu’on traite des séries temporelles, on peut utiliser l’outil rolling :"
   ]
  },
  {
   "cell_type": "code",
   "execution_count": 42,
   "metadata": {},
   "outputs": [
    {
     "data": {
      "text/plain": [
       "<Axes: >"
      ]
     },
     "execution_count": 42,
     "metadata": {},
     "output_type": "execute_result"
    },
    {
     "data": {
      "image/png": "[encoded data removed]",
      "text/plain": [
       "<Figure size 640x480 with 1 Axes>"
      ]
     },
     "metadata": {},
     "output_type": "display_data"
    }
   ],
   "source": [
    "pd.Series(data, index=index_ouverture).plot()\n",
    "pd.Series(data, index=index_ouverture).rolling(window=10).mean().plot()\n",
    "#La deuxième ligne permet d’afficher la moyenne prise sur 10 points adjacents."
   ]
  },
  {
   "cell_type": "markdown",
   "metadata": {},
   "source": [
    "### 4.3.8 Le traitement des données manquantes\n",
    "Les données manquantes sont un domaine de la data science à part entière. Leur traitement nécessite une réflexion bien au-delà de quelques lignes de codes.\n",
    "\n",
    "Dans tous vos projets data science, vous serez confronté à des données manquantes, elles sont réparties en trois types principaux :\n",
    "\n",
    "- Les données manquantes complètement aléatoirement\n",
    "- Les données manquantes aléatoirement\n",
    "- Les données manquantes non aléatoirement\n",
    "\n",
    "Ainsi, pour les deux premiers cas, on pourra penser à des méthodes d’imputation\n",
    "alors que pour le troisième il ne sera pas possible de faire cela."
   ]
  },
  {
   "cell_type": "markdown",
   "metadata": {},
   "source": [
    "#### Les données manquantes en Python\n",
    "NumPy possède un code standard pour gérer les données manquantes, il s’agit\n",
    "de NaN. On peut définir un élément d’un array comme une donnée manquante en\n",
    "utilisant :"
   ]
  },
  {
   "cell_type": "code",
   "execution_count": 43,
   "metadata": {},
   "outputs": [
    {
     "data": {
      "text/plain": [
       "nan"
      ]
     },
     "execution_count": 43,
     "metadata": {},
     "output_type": "execute_result"
    }
   ],
   "source": [
    "table = np.random.rand(5000, 10)\n",
    "table[0,1] = np.nan\n",
    "table[0,1]"
   ]
  },
  {
   "cell_type": "markdown",
   "metadata": {},
   "source": [
    "L’avantage d’utiliser ce codage réside dans le fait que les nan n’altèrent pas le type\n",
    "de votre array et qu’ils ne sont pas pris en compte dans les calculs de statistiques\n",
    "descriptives avec les fonctions adaptées :"
   ]
  },
  {
   "cell_type": "code",
   "execution_count": 44,
   "metadata": {},
   "outputs": [
    {
     "data": {
      "text/plain": [
       "9.0"
      ]
     },
     "execution_count": 44,
     "metadata": {},
     "output_type": "execute_result"
    }
   ],
   "source": [
    "vec = np.ones(10)\n",
    "vec[3] = np.nan\n",
    "np.nansum(vec)"
   ]
  },
  {
   "cell_type": "markdown",
   "metadata": {},
   "source": [
    "Lorsque vous importez des données avec Pandas, celui-ci va automatiquement\n",
    "remplacer les données manquantes par des codes nan.\n",
    "\n",
    "#### La suppression des données manquantes\n",
    "L’approche la plus simple pour traiter des données manquantes est de supprimer les observations comportant des données manquantes.\n",
    "\n",
    "Pandas comporte de nombreuses méthodes pour cela. Si nous prenons les données sur les salaires des employés de la ville de Boston, nous pouvons utiliser :"
   ]
  },
  {
   "cell_type": "code",
   "execution_count": 45,
   "metadata": {},
   "outputs": [
    {
     "data": {
      "text/plain": [
       "(22245, 12)"
      ]
     },
     "execution_count": 45,
     "metadata": {},
     "output_type": "execute_result"
    }
   ],
   "source": [
    "# la table globale\n",
    "boston.shape"
   ]
  },
  {
   "cell_type": "code",
   "execution_count": 46,
   "metadata": {},
   "outputs": [
    {
     "data": {
      "text/plain": [
       "(123, 12)"
      ]
     },
     "execution_count": 46,
     "metadata": {},
     "output_type": "execute_result"
    }
   ],
   "source": [
    "# la table lorsqu’on retire les lignes avec données manquantes\n",
    "boston.dropna().shape"
   ]
  },
  {
   "cell_type": "code",
   "execution_count": 47,
   "metadata": {},
   "outputs": [
    {
     "data": {
      "text/plain": [
       "(22245, 4)"
      ]
     },
     "execution_count": 47,
     "metadata": {},
     "output_type": "execute_result"
    }
   ],
   "source": [
    "# la table lorsqu’on retire les colonnes avec des données manquantes\n",
    "boston.dropna(axis = 1).shape"
   ]
  },
  {
   "cell_type": "markdown",
   "metadata": {},
   "source": [
    "On voit que dans cette table de nombreuses données manquantes existent surtout sur huit colonnes. Quatre colonnes sont complètes.\n",
    "\n",
    "#### La complétion par la moyenne, le mode ou la médiane\n",
    "\n",
    "Avant de compléter nos données, il va falloir transformer nos données Boston de manière à avoir des données numériques. En s’inspirant du code vu plus haut pour les données AirBnB, nous pouvons faire cela avec :"
   ]
  },
  {
   "cell_type": "code",
   "execution_count": 48,
   "metadata": {},
   "outputs": [
    {
     "name": "stderr",
     "output_type": "stream",
     "text": [
      "C:\\Users\\ej\\AppData\\Local\\Temp\\ipykernel_17628\\1365728352.py:3: FutureWarning: errors='ignore' is deprecated and will raise in a future version. Use to_numeric without passing `errors` and catch exceptions explicitly instead\n",
      "  boston[col]=pd.to_numeric(boston[col].str.replace(r\"\\(.*\\)\",\"\")\\\n"
     ]
    }
   ],
   "source": [
    "for col in boston.columns :\n",
    "    if boston[col].dtype==object :\n",
    "        boston[col]=pd.to_numeric(boston[col].str.replace(r\"\\(.*\\)\",\"\")\\\n",
    "                                  .str.replace(\",\",\"\").str.strip(\"$\"),\n",
    "                                  errors='ignore')"
   ]
  },
  {
   "cell_type": "markdown",
   "metadata": {},
   "source": [
    "Dans ce code, on supprime d’abord les parenthèses en utilisant une expression régulière (voir le chapitre 2), puis on élimine les virgules et on enlève du sigle $ lorsqu’il est en début de chaîne.\n",
    "\n",
    "On a maintenant huit colonnes en float avec des salaires.\n",
    "\n",
    "On peut maintenant travailler sur les données manquantes. Il existe deux moyens de compléter par la moyenne ou par la médiane.\n",
    "\n",
    "Un premier en utilisant Pandas :"
   ]
  },
  {
   "cell_type": "code",
   "execution_count": 49,
   "metadata": {},
   "outputs": [],
   "source": [
    "# pour la moyenne\n",
    "for col in boston.select_dtypes(\"number\").columns :\n",
    "    boston[col] = boston[col].fillna(boston[col].mean())\n",
    "\n",
    "        \n",
    "# pour la médiane\n",
    "for col in boston.select_dtypes(\"number\").columns :\n",
    "    boston[col] = boston[col].fillna(boston[col].median())\n",
    "\n",
    "# pour le mode, on utilise une condition à l’intérieur de l’appel de la boucle \n",
    "# qui est équivalente à ce que nous faisions plus haut\n",
    "# le calcul du mode renvoie un objet Series et non une valeur comme les autres \n",
    "# méthodes, d’où le [0]\n",
    "for col in boston.select_dtypes(object).columns :\n",
    "    boston[col] = boston[col].fillna(boston[col].mode()[0])"
   ]
  },
  {
   "cell_type": "markdown",
   "metadata": {},
   "source": [
    "Le package Scikit-Learn permet aussi de faire des remplacements par la moyenne\n",
    "ou la médiane :"
   ]
  },
  {
   "cell_type": "code",
   "execution_count": 50,
   "metadata": {},
   "outputs": [],
   "source": [
    "# à partir de sklearn version 0.20\n",
    "from sklearn.impute import SimpleImputer\n",
    "# on crée un objet de cette classe avec la stratégie d’imputation comme\n",
    "# paramètre\n",
    "imputer = SimpleImputer(strategy = \"mean\")\n",
    "# on construit un nouveau jeu de données en appliquant la méthode\n",
    "# .fit_transform()\n",
    "boston_imputee2 = imputer.fit_transform(boston.select_dtypes(\"number\"))"
   ]
  },
  {
   "cell_type": "markdown",
   "metadata": {},
   "source": [
    "### 4.3.9 Le traitement des colonnes avec des données qualitatives\n",
    "Les données qualitatives sont extrêmement présentes dans les données. Dès que vous travaillez sur des données socio-démographiques sur des individus, vous allez rencontrer des données qualitatives. Le traitement des données qualitatives est souvent négligé dans les ouvrages de traitement de la donnée. Il est donc primordial de bien expliquer le traitement qu’elles requièrent.\n",
    "\n",
    "#### Le type categorical\n",
    "Les données qualitatives sont des valeurs textuelles par défaut. Pandas propose un type spécifique pour traiter ce type de données. Le type categorical permet d’optimiser le traitement de ce type de données.\n",
    "\n",
    "Il permet de créer et de transformer des données de ce type. Vous avez importé des données avec des variables qualitatives, Pandas va automatiquement les considérer comme du type object. Vous pourrez le voir en utilisant la propriété .dtype.\n",
    "Si vous désirez transformer ce type en un type categorical, vous pouvez utiliser la fonction pd.Categorical() :"
   ]
  },
  {
   "cell_type": "code",
   "execution_count": 51,
   "metadata": {},
   "outputs": [
    {
     "data": {
      "text/plain": [
       "['Boston', 'Paris', 'Londres', 'Paris', 'Boston']\n",
       "Categories (3, object): ['Boston', 'Londres', 'Paris']"
      ]
     },
     "execution_count": 51,
     "metadata": {},
     "output_type": "execute_result"
    }
   ],
   "source": [
    "var_quali = pd.Categorical([\"Boston\",\"Paris\",\"Londres\",\"Paris\", \"Boston\"])\n",
    "var_quali"
   ]
  },
  {
   "cell_type": "code",
   "execution_count": 52,
   "metadata": {},
   "outputs": [],
   "source": [
    "# on peut ajouter une modalité\n",
    "var_quali = var_quali.add_categories(\"Rome\")\n",
    "# on alloue cette valeur à un élément de notre objet\n",
    "var_quali[4] = \"Rome\" "
   ]
  },
  {
   "cell_type": "markdown",
   "metadata": {},
   "source": [
    "Si on modifie notre objet en y ajoutant une modalité non définie au préalable alors on aura un message d’erreur.\n",
    "Si on veut transformer une colonne objet en category, on utilise :"
   ]
  },
  {
   "cell_type": "code",
   "execution_count": 53,
   "metadata": {},
   "outputs": [
    {
     "data": {
      "text/plain": [
       "CategoricalDtype(categories=['10025', '10033', '10128', '1027', '1028', '1040', '10466',\n",
       "                  '10512', '1057', '1085',\n",
       "                  ...\n",
       "                  '95008', '97201', '97209', '97410', '98074', '98121',\n",
       "                  '98144', '98296', 'B1S 3', 'UNKNO'],\n",
       ", ordered=False, categories_dtype=object)"
      ]
     },
     "execution_count": 53,
     "metadata": {},
     "output_type": "execute_result"
    }
   ],
   "source": [
    "boston[\"POSTAL\"]=boston[\"POSTAL\"].astype(\"category\")\n",
    "#équivalent sans warning\n",
    "boston[\"POSTAL\"]=boston[\"POSTAL\"].astype(pd.api.types.CategoricalDtype(ordered=False))\n",
    "\n",
    "boston[\"POSTAL\"].dtype\n"
   ]
  },
  {
   "cell_type": "markdown",
   "metadata": {},
   "source": [
    "On utilise ordered = False car il n’y a pas d’ordre entre les modalités de notre colonne. Si une notion d’ordre doit être ajoutée, on ajoute la liste des modalités et on\n",
    "passe le paramètre ordered à True.\n",
    "\n",
    "Le type Categorical est inspiré du type factor de R."
   ]
  },
  {
   "cell_type": "markdown",
   "metadata": {},
   "source": [
    "#### La transformation des données\n",
    "Pour traiter des données qualitatives, il faudra les transformer. \n",
    "\n",
    "En effet, les algorithmes que vous aurez à utiliser sont basés sur des données numériques et donc des variables quantitatives.\n",
    "\n",
    "Si vous travaillez sur des données nominales, il va falloir transformer les variables en indicatrices. C’est-à-dire que vous allez obtenir une colonne pour chaque modalité de votre variable qualitative.\n",
    "\n",
    "Cette approche peut être appliquée avec deux packages que nous utilisons souvent : Pandas et Scikit-Learn.\n",
    "\n",
    "Dans le cadre de nos données sur les logements AirBnB, nous avons plusieurs variables qualitatives, notamment roomtype qui a trois modalités :"
   ]
  },
  {
   "cell_type": "code",
   "execution_count": 54,
   "metadata": {},
   "outputs": [
    {
     "data": {
      "text/plain": [
       "room_type\n",
       "Entire home/apt    4483\n",
       "Private room        503\n",
       "Shared room           9\n",
       "Hotel room            5\n",
       "Name: count, dtype: int64"
      ]
     },
     "execution_count": 54,
     "metadata": {},
     "output_type": "execute_result"
    }
   ],
   "source": [
    "listing[\"room_type\"].value_counts()"
   ]
  },
  {
   "cell_type": "markdown",
   "metadata": {},
   "source": [
    "##### Approche Pandas avec get_dummies() :"
   ]
  },
  {
   "cell_type": "code",
   "execution_count": 55,
   "metadata": {},
   "outputs": [
    {
     "data": {
      "text/html": [
       "<div>\n",
       "<style scoped>\n",
       "    .dataframe tbody tr th:only-of-type {\n",
       "        vertical-align: middle;\n",
       "    }\n",
       "\n",
       "    .dataframe tbody tr th {\n",
       "        vertical-align: top;\n",
       "    }\n",
       "\n",
       "    .dataframe thead th {\n",
       "        text-align: right;\n",
       "    }\n",
       "</style>\n",
       "<table border=\"1\" class=\"dataframe\">\n",
       "  <thead>\n",
       "    <tr style=\"text-align: right;\">\n",
       "      <th></th>\n",
       "      <th>Entire home/apt</th>\n",
       "      <th>Hotel room</th>\n",
       "      <th>Private room</th>\n",
       "      <th>Shared room</th>\n",
       "    </tr>\n",
       "    <tr>\n",
       "      <th>id</th>\n",
       "      <th></th>\n",
       "      <th></th>\n",
       "      <th></th>\n",
       "      <th></th>\n",
       "    </tr>\n",
       "  </thead>\n",
       "  <tbody>\n",
       "    <tr>\n",
       "      <th>2577</th>\n",
       "      <td>True</td>\n",
       "      <td>False</td>\n",
       "      <td>False</td>\n",
       "      <td>False</td>\n",
       "    </tr>\n",
       "    <tr>\n",
       "      <th>3109</th>\n",
       "      <td>True</td>\n",
       "      <td>False</td>\n",
       "      <td>False</td>\n",
       "      <td>False</td>\n",
       "    </tr>\n",
       "    <tr>\n",
       "      <th>4886</th>\n",
       "      <td>True</td>\n",
       "      <td>False</td>\n",
       "      <td>False</td>\n",
       "      <td>False</td>\n",
       "    </tr>\n",
       "    <tr>\n",
       "      <th>4890</th>\n",
       "      <td>True</td>\n",
       "      <td>False</td>\n",
       "      <td>False</td>\n",
       "      <td>False</td>\n",
       "    </tr>\n",
       "    <tr>\n",
       "      <th>5396</th>\n",
       "      <td>True</td>\n",
       "      <td>False</td>\n",
       "      <td>False</td>\n",
       "      <td>False</td>\n",
       "    </tr>\n",
       "  </tbody>\n",
       "</table>\n",
       "</div>"
      ],
      "text/plain": [
       "      Entire home/apt  Hotel room  Private room  Shared room\n",
       "id                                                          \n",
       "2577             True       False         False        False\n",
       "3109             True       False         False        False\n",
       "4886             True       False         False        False\n",
       "4890             True       False         False        False\n",
       "5396             True       False         False        False"
      ]
     },
     "execution_count": 55,
     "metadata": {},
     "output_type": "execute_result"
    }
   ],
   "source": [
    "frame_room_type = pd.get_dummies(listing[\"room_type\"])\n",
    "frame_room_type.head()"
   ]
  },
  {
   "cell_type": "markdown",
   "metadata": {},
   "source": [
    "Cette fonction crée un nouveau DataFrame \n",
    "\n",
    "##### Approche Scikit-Learn avec OneHotEncoder() :\n",
    "\n",
    "Dans ce cas, il faut que la variable qualitative soit déjà sous forme d’entiers entre 0 et p-1, p étant le nombre de modalités de notre variable.\n",
    "\n",
    "On va combiner deux classes de Scikit-Learn : LabelEncoder et OneHotEncoder.\n",
    "\n",
    "La première va permettre de recoder les valeurs textuelles en entiers et la seconde de construire des colonnes binaires à partir des valeurs de la variable transformée.\n",
    "\n",
    "Voici le code :"
   ]
  },
  {
   "cell_type": "code",
   "execution_count": 56,
   "metadata": {},
   "outputs": [
    {
     "data": {
      "text/html": [
       "<div>\n",
       "<style scoped>\n",
       "    .dataframe tbody tr th:only-of-type {\n",
       "        vertical-align: middle;\n",
       "    }\n",
       "\n",
       "    .dataframe tbody tr th {\n",
       "        vertical-align: top;\n",
       "    }\n",
       "\n",
       "    .dataframe thead th {\n",
       "        text-align: right;\n",
       "    }\n",
       "</style>\n",
       "<table border=\"1\" class=\"dataframe\">\n",
       "  <thead>\n",
       "    <tr style=\"text-align: right;\">\n",
       "      <th></th>\n",
       "      <th>Entire home/apt</th>\n",
       "      <th>Private room</th>\n",
       "      <th>Hotel room</th>\n",
       "      <th>Shared room</th>\n",
       "    </tr>\n",
       "  </thead>\n",
       "  <tbody>\n",
       "    <tr>\n",
       "      <th>0</th>\n",
       "      <td>1.0</td>\n",
       "      <td>0.0</td>\n",
       "      <td>0.0</td>\n",
       "      <td>0.0</td>\n",
       "    </tr>\n",
       "    <tr>\n",
       "      <th>1</th>\n",
       "      <td>1.0</td>\n",
       "      <td>0.0</td>\n",
       "      <td>0.0</td>\n",
       "      <td>0.0</td>\n",
       "    </tr>\n",
       "    <tr>\n",
       "      <th>2</th>\n",
       "      <td>1.0</td>\n",
       "      <td>0.0</td>\n",
       "      <td>0.0</td>\n",
       "      <td>0.0</td>\n",
       "    </tr>\n",
       "    <tr>\n",
       "      <th>3</th>\n",
       "      <td>1.0</td>\n",
       "      <td>0.0</td>\n",
       "      <td>0.0</td>\n",
       "      <td>0.0</td>\n",
       "    </tr>\n",
       "    <tr>\n",
       "      <th>4</th>\n",
       "      <td>1.0</td>\n",
       "      <td>0.0</td>\n",
       "      <td>0.0</td>\n",
       "      <td>0.0</td>\n",
       "    </tr>\n",
       "  </tbody>\n",
       "</table>\n",
       "</div>"
      ],
      "text/plain": [
       "   Entire home/apt  Private room  Hotel room  Shared room\n",
       "0              1.0           0.0         0.0          0.0\n",
       "1              1.0           0.0         0.0          0.0\n",
       "2              1.0           0.0         0.0          0.0\n",
       "3              1.0           0.0         0.0          0.0\n",
       "4              1.0           0.0         0.0          0.0"
      ]
     },
     "execution_count": 56,
     "metadata": {},
     "output_type": "execute_result"
    }
   ],
   "source": [
    "# on importe les classes\n",
    "from sklearn.preprocessing import LabelEncoder, OneHotEncoder\n",
    "# on crée un objet de la classe LabelEncoder\n",
    "encode1=LabelEncoder()\n",
    "# on crée un objet de la classe OneHotEncoder\n",
    "encode2=OneHotEncoder(sparse_output= False)\n",
    "# on combine l’application des deux classes\n",
    "array_out=encode2.fit_transform(encode1.fit_transform(listing[\"room_type\"]).reshape(-1,1))\n",
    "# on transforme la sortie en DataFrame\n",
    "pd.DataFrame(array_out, columns=listing[\"room_type\"].unique()).head()"
   ]
  },
  {
   "cell_type": "markdown",
   "metadata": {},
   "source": [
    "**Attention à partir de la version 0.20 de Scikit Learn, OneHotEncoder peut gérer des données non numériques, on a alors :**"
   ]
  },
  {
   "cell_type": "code",
   "execution_count": 57,
   "metadata": {},
   "outputs": [
    {
     "data": {
      "text/html": [
       "<div>\n",
       "<style scoped>\n",
       "    .dataframe tbody tr th:only-of-type {\n",
       "        vertical-align: middle;\n",
       "    }\n",
       "\n",
       "    .dataframe tbody tr th {\n",
       "        vertical-align: top;\n",
       "    }\n",
       "\n",
       "    .dataframe thead th {\n",
       "        text-align: right;\n",
       "    }\n",
       "</style>\n",
       "<table border=\"1\" class=\"dataframe\">\n",
       "  <thead>\n",
       "    <tr style=\"text-align: right;\">\n",
       "      <th></th>\n",
       "      <th>Entire home/apt</th>\n",
       "      <th>Private room</th>\n",
       "      <th>Hotel room</th>\n",
       "      <th>Shared room</th>\n",
       "    </tr>\n",
       "  </thead>\n",
       "  <tbody>\n",
       "    <tr>\n",
       "      <th>0</th>\n",
       "      <td>1.0</td>\n",
       "      <td>0.0</td>\n",
       "      <td>0.0</td>\n",
       "      <td>0.0</td>\n",
       "    </tr>\n",
       "    <tr>\n",
       "      <th>1</th>\n",
       "      <td>1.0</td>\n",
       "      <td>0.0</td>\n",
       "      <td>0.0</td>\n",
       "      <td>0.0</td>\n",
       "    </tr>\n",
       "    <tr>\n",
       "      <th>2</th>\n",
       "      <td>1.0</td>\n",
       "      <td>0.0</td>\n",
       "      <td>0.0</td>\n",
       "      <td>0.0</td>\n",
       "    </tr>\n",
       "    <tr>\n",
       "      <th>3</th>\n",
       "      <td>1.0</td>\n",
       "      <td>0.0</td>\n",
       "      <td>0.0</td>\n",
       "      <td>0.0</td>\n",
       "    </tr>\n",
       "    <tr>\n",
       "      <th>4</th>\n",
       "      <td>1.0</td>\n",
       "      <td>0.0</td>\n",
       "      <td>0.0</td>\n",
       "      <td>0.0</td>\n",
       "    </tr>\n",
       "  </tbody>\n",
       "</table>\n",
       "</div>"
      ],
      "text/plain": [
       "   Entire home/apt  Private room  Hotel room  Shared room\n",
       "0              1.0           0.0         0.0          0.0\n",
       "1              1.0           0.0         0.0          0.0\n",
       "2              1.0           0.0         0.0          0.0\n",
       "3              1.0           0.0         0.0          0.0\n",
       "4              1.0           0.0         0.0          0.0"
      ]
     },
     "execution_count": 57,
     "metadata": {},
     "output_type": "execute_result"
    }
   ],
   "source": [
    "# on importe les classes\n",
    "from sklearn.preprocessing import OneHotEncoder\n",
    "# on crée un objet de la classe OneHotEncoder\n",
    "encode=OneHotEncoder(sparse_output= False,)\n",
    "# on l'applique directement sur la colonnes initiale\n",
    "array_out=encode.fit_transform(np.array(listing[\"room_type\"]).reshape(-1,1))\n",
    "# on transforme la sortie en DataFrame\n",
    "pd.DataFrame(array_out, columns=listing[\"room_type\"].unique()).head()"
   ]
  },
  {
   "cell_type": "markdown",
   "metadata": {},
   "source": [
    "Si vous travaillez sur des données ordinales (avec des modalités ordonnées), il vous suffit de recoder une variable avec des valeurs chiffrées (attention, cette approche\n",
    "n’est valable que pour des données ordinales).\n",
    "\n",
    "##### Approche avec Pandas :\n",
    "\n",
    "Il n’y a pas d’approche automatisée, on peut utiliser le code suivant :"
   ]
  },
  {
   "cell_type": "code",
   "execution_count": 58,
   "metadata": {},
   "outputs": [],
   "source": [
    "listing[\"room_type2\"]=listing[\"room_type\"].map(dict(zip(listing[\"room_type\"]\\\n",
    "                                                        .unique(),\n",
    "                                                        range(listing[\"room_type\"].nunique())) ))"
   ]
  },
  {
   "cell_type": "markdown",
   "metadata": {},
   "source": [
    "On crée donc une colonne en utilisant un dictionnaire qui permet de faire correspondre\n",
    "des éléments de celui-ci à des valeurs entières.\n",
    "\n",
    "##### Approche avec Scikit-Learn :\n",
    "\n",
    "Cette approche est plus simple, elle se base sur l’outil LabelEncoder et se fait avec\n",
    "ce code :"
   ]
  },
  {
   "cell_type": "code",
   "execution_count": 59,
   "metadata": {},
   "outputs": [],
   "source": [
    "from sklearn.preprocessing import LabelEncoder\n",
    "encode1 = LabelEncoder()\n",
    "listing[\"room_type2\"] = encode1.fit_transform(listing[\"room_type\"])"
   ]
  },
  {
   "cell_type": "markdown",
   "metadata": {},
   "source": [
    "Ces méthodes sont centrales car la plupart des algorithmes en Python ne\n",
    "supportent pas le type categorical."
   ]
  },
  {
   "cell_type": "markdown",
   "metadata": {},
   "source": [
    "### 4.3.10 Les transformations numériques\n",
    "\n",
    "Lorsque vous travaillez sur des données, un certain nombre de transformations de base sont nécessaires. Trois packages pourront être utiles pour ce type de transformations : Scikit-Learn, Pandas et SciPy.\n",
    "\n",
    "Avec Pandas, la plupart des transformations se font en faisant les calculs directement en utilisant les fonctions universelles de Pandas.\n",
    "\n",
    "Avec Scikit-Learn, l’approche est légèrement différente. Dans ce cas, on utilise des classes permettant de transformer les données.\n",
    "\n",
    "SciPy nous permet d’appliquer des transformations plus spécifiques.\n",
    "\n",
    "Nous utiliserons les données sur les employés de la ville de Boston desquelles nous extrayons les colonnes numériques :"
   ]
  },
  {
   "cell_type": "code",
   "execution_count": 60,
   "metadata": {},
   "outputs": [],
   "source": [
    "boston_num=boston.select_dtypes(include=[\"number\"])"
   ]
  },
  {
   "cell_type": "markdown",
   "metadata": {},
   "source": [
    "#### Centrer et réduire les données"
   ]
  },
  {
   "cell_type": "code",
   "execution_count": 61,
   "metadata": {},
   "outputs": [
    {
     "data": {
      "text/html": [
       "<div>\n",
       "<style scoped>\n",
       "    .dataframe tbody tr th:only-of-type {\n",
       "        vertical-align: middle;\n",
       "    }\n",
       "\n",
       "    .dataframe tbody tr th {\n",
       "        vertical-align: top;\n",
       "    }\n",
       "\n",
       "    .dataframe thead th {\n",
       "        text-align: right;\n",
       "    }\n",
       "</style>\n",
       "<table border=\"1\" class=\"dataframe\">\n",
       "  <thead>\n",
       "    <tr style=\"text-align: right;\">\n",
       "      <th></th>\n",
       "      <th>OTHER</th>\n",
       "      <th>INJURED</th>\n",
       "      <th>DETAIL</th>\n",
       "      <th>TOTAL EARNINGS</th>\n",
       "    </tr>\n",
       "  </thead>\n",
       "  <tbody>\n",
       "    <tr>\n",
       "      <th>0</th>\n",
       "      <td>1.441325</td>\n",
       "      <td>0.000000</td>\n",
       "      <td>0.000000</td>\n",
       "      <td>2.036972</td>\n",
       "    </tr>\n",
       "    <tr>\n",
       "      <th>1</th>\n",
       "      <td>-0.041237</td>\n",
       "      <td>0.000000</td>\n",
       "      <td>0.000000</td>\n",
       "      <td>-0.184888</td>\n",
       "    </tr>\n",
       "    <tr>\n",
       "      <th>2</th>\n",
       "      <td>0.375293</td>\n",
       "      <td>0.000000</td>\n",
       "      <td>0.431839</td>\n",
       "      <td>2.614268</td>\n",
       "    </tr>\n",
       "    <tr>\n",
       "      <th>3</th>\n",
       "      <td>1.426269</td>\n",
       "      <td>-3.098121</td>\n",
       "      <td>-0.413733</td>\n",
       "      <td>3.203649</td>\n",
       "    </tr>\n",
       "    <tr>\n",
       "      <th>4</th>\n",
       "      <td>-0.524861</td>\n",
       "      <td>0.000000</td>\n",
       "      <td>0.000000</td>\n",
       "      <td>0.131807</td>\n",
       "    </tr>\n",
       "  </tbody>\n",
       "</table>\n",
       "</div>"
      ],
      "text/plain": [
       "      OTHER   INJURED    DETAIL  TOTAL EARNINGS\n",
       "0  1.441325  0.000000  0.000000        2.036972\n",
       "1 -0.041237  0.000000  0.000000       -0.184888\n",
       "2  0.375293  0.000000  0.431839        2.614268\n",
       "3  1.426269 -3.098121 -0.413733        3.203649\n",
       "4 -0.524861  0.000000  0.000000        0.131807"
      ]
     },
     "execution_count": 61,
     "metadata": {},
     "output_type": "execute_result"
    }
   ],
   "source": [
    "# avec Pandas pour centrer et réduire\n",
    "boston_std=boston_num.apply(lambda x : (x-x.mean())/x.std())\n",
    "boston_std.head()"
   ]
  },
  {
   "cell_type": "code",
   "execution_count": 62,
   "metadata": {},
   "outputs": [
    {
     "data": {
      "text/html": [
       "<div>\n",
       "<style scoped>\n",
       "    .dataframe tbody tr th:only-of-type {\n",
       "        vertical-align: middle;\n",
       "    }\n",
       "\n",
       "    .dataframe tbody tr th {\n",
       "        vertical-align: top;\n",
       "    }\n",
       "\n",
       "    .dataframe thead th {\n",
       "        text-align: right;\n",
       "    }\n",
       "</style>\n",
       "<table border=\"1\" class=\"dataframe\">\n",
       "  <thead>\n",
       "    <tr style=\"text-align: right;\">\n",
       "      <th></th>\n",
       "      <th>OTHER</th>\n",
       "      <th>INJURED</th>\n",
       "      <th>DETAIL</th>\n",
       "      <th>TOTAL EARNINGS</th>\n",
       "    </tr>\n",
       "  </thead>\n",
       "  <tbody>\n",
       "    <tr>\n",
       "      <th>0</th>\n",
       "      <td>1.441358</td>\n",
       "      <td>0.000000</td>\n",
       "      <td>0.000000</td>\n",
       "      <td>2.037018</td>\n",
       "    </tr>\n",
       "    <tr>\n",
       "      <th>1</th>\n",
       "      <td>-0.041238</td>\n",
       "      <td>0.000000</td>\n",
       "      <td>0.000000</td>\n",
       "      <td>-0.184892</td>\n",
       "    </tr>\n",
       "    <tr>\n",
       "      <th>2</th>\n",
       "      <td>0.375301</td>\n",
       "      <td>0.000000</td>\n",
       "      <td>0.431848</td>\n",
       "      <td>2.614326</td>\n",
       "    </tr>\n",
       "    <tr>\n",
       "      <th>3</th>\n",
       "      <td>1.426301</td>\n",
       "      <td>-3.098191</td>\n",
       "      <td>-0.413743</td>\n",
       "      <td>3.203721</td>\n",
       "    </tr>\n",
       "    <tr>\n",
       "      <th>4</th>\n",
       "      <td>-0.524873</td>\n",
       "      <td>0.000000</td>\n",
       "      <td>0.000000</td>\n",
       "      <td>0.131810</td>\n",
       "    </tr>\n",
       "  </tbody>\n",
       "</table>\n",
       "</div>"
      ],
      "text/plain": [
       "      OTHER   INJURED    DETAIL  TOTAL EARNINGS\n",
       "0  1.441358  0.000000  0.000000        2.037018\n",
       "1 -0.041238  0.000000  0.000000       -0.184892\n",
       "2  0.375301  0.000000  0.431848        2.614326\n",
       "3  1.426301 -3.098191 -0.413743        3.203721\n",
       "4 -0.524873  0.000000  0.000000        0.131810"
      ]
     },
     "execution_count": 62,
     "metadata": {},
     "output_type": "execute_result"
    }
   ],
   "source": [
    "# avec Scikit-Learn, on utilisera la classe StandardScaler :\n",
    "from sklearn.preprocessing import StandardScaler\n",
    "scaler = StandardScaler(with_mean=True, with_std=True)\n",
    "rescaled = scaler.fit_transform(boston_num)\n",
    "pd.DataFrame(rescaled, index=boston_num.index, columns=boston_num.columns).head()"
   ]
  },
  {
   "cell_type": "markdown",
   "metadata": {},
   "source": [
    "#### Changer d’échelle\n",
    "\n",
    "On utilise pour passer à une échelle 0-100 :"
   ]
  },
  {
   "cell_type": "code",
   "execution_count": 63,
   "metadata": {},
   "outputs": [
    {
     "data": {
      "text/html": [
       "<div>\n",
       "<style scoped>\n",
       "    .dataframe tbody tr th:only-of-type {\n",
       "        vertical-align: middle;\n",
       "    }\n",
       "\n",
       "    .dataframe tbody tr th {\n",
       "        vertical-align: top;\n",
       "    }\n",
       "\n",
       "    .dataframe thead th {\n",
       "        text-align: right;\n",
       "    }\n",
       "</style>\n",
       "<table border=\"1\" class=\"dataframe\">\n",
       "  <thead>\n",
       "    <tr style=\"text-align: right;\">\n",
       "      <th></th>\n",
       "      <th>OTHER</th>\n",
       "      <th>INJURED</th>\n",
       "      <th>DETAIL</th>\n",
       "      <th>TOTAL EARNINGS</th>\n",
       "    </tr>\n",
       "  </thead>\n",
       "  <tbody>\n",
       "    <tr>\n",
       "      <th>0</th>\n",
       "      <td>7.311559</td>\n",
       "      <td>7.765386</td>\n",
       "      <td>14.726334</td>\n",
       "      <td>47.964260</td>\n",
       "    </tr>\n",
       "    <tr>\n",
       "      <th>1</th>\n",
       "      <td>1.919201</td>\n",
       "      <td>7.765386</td>\n",
       "      <td>14.726334</td>\n",
       "      <td>16.945978</td>\n",
       "    </tr>\n",
       "    <tr>\n",
       "      <th>2</th>\n",
       "      <td>3.434198</td>\n",
       "      <td>7.765386</td>\n",
       "      <td>17.086743</td>\n",
       "      <td>56.023593</td>\n",
       "    </tr>\n",
       "    <tr>\n",
       "      <th>3</th>\n",
       "      <td>7.256796</td>\n",
       "      <td>0.020329</td>\n",
       "      <td>12.464888</td>\n",
       "      <td>64.251647</td>\n",
       "    </tr>\n",
       "    <tr>\n",
       "      <th>4</th>\n",
       "      <td>0.160171</td>\n",
       "      <td>7.765386</td>\n",
       "      <td>14.726334</td>\n",
       "      <td>21.367201</td>\n",
       "    </tr>\n",
       "  </tbody>\n",
       "</table>\n",
       "</div>"
      ],
      "text/plain": [
       "      OTHER   INJURED     DETAIL  TOTAL EARNINGS\n",
       "0  7.311559  7.765386  14.726334       47.964260\n",
       "1  1.919201  7.765386  14.726334       16.945978\n",
       "2  3.434198  7.765386  17.086743       56.023593\n",
       "3  7.256796  0.020329  12.464888       64.251647\n",
       "4  0.160171  7.765386  14.726334       21.367201"
      ]
     },
     "execution_count": 63,
     "metadata": {},
     "output_type": "execute_result"
    }
   ],
   "source": [
    "# avec Pandas\n",
    "boston_0_100 = boston_num.apply(lambda x : (x-x.min())/(x.max()-x.min())*100)\n",
    "boston_0_100.head()"
   ]
  },
  {
   "cell_type": "code",
   "execution_count": 64,
   "metadata": {},
   "outputs": [
    {
     "data": {
      "text/html": [
       "<div>\n",
       "<style scoped>\n",
       "    .dataframe tbody tr th:only-of-type {\n",
       "        vertical-align: middle;\n",
       "    }\n",
       "\n",
       "    .dataframe tbody tr th {\n",
       "        vertical-align: top;\n",
       "    }\n",
       "\n",
       "    .dataframe thead th {\n",
       "        text-align: right;\n",
       "    }\n",
       "</style>\n",
       "<table border=\"1\" class=\"dataframe\">\n",
       "  <thead>\n",
       "    <tr style=\"text-align: right;\">\n",
       "      <th></th>\n",
       "      <th>OTHER</th>\n",
       "      <th>INJURED</th>\n",
       "      <th>DETAIL</th>\n",
       "      <th>TOTAL EARNINGS</th>\n",
       "    </tr>\n",
       "  </thead>\n",
       "  <tbody>\n",
       "    <tr>\n",
       "      <th>0</th>\n",
       "      <td>7.311559</td>\n",
       "      <td>7.765386</td>\n",
       "      <td>14.726334</td>\n",
       "      <td>47.964260</td>\n",
       "    </tr>\n",
       "    <tr>\n",
       "      <th>1</th>\n",
       "      <td>1.919201</td>\n",
       "      <td>7.765386</td>\n",
       "      <td>14.726334</td>\n",
       "      <td>16.945978</td>\n",
       "    </tr>\n",
       "    <tr>\n",
       "      <th>2</th>\n",
       "      <td>3.434198</td>\n",
       "      <td>7.765386</td>\n",
       "      <td>17.086743</td>\n",
       "      <td>56.023593</td>\n",
       "    </tr>\n",
       "    <tr>\n",
       "      <th>3</th>\n",
       "      <td>7.256796</td>\n",
       "      <td>0.020329</td>\n",
       "      <td>12.464888</td>\n",
       "      <td>64.251647</td>\n",
       "    </tr>\n",
       "    <tr>\n",
       "      <th>4</th>\n",
       "      <td>0.160171</td>\n",
       "      <td>7.765386</td>\n",
       "      <td>14.726334</td>\n",
       "      <td>21.367201</td>\n",
       "    </tr>\n",
       "  </tbody>\n",
       "</table>\n",
       "</div>"
      ],
      "text/plain": [
       "      OTHER   INJURED     DETAIL  TOTAL EARNINGS\n",
       "0  7.311559  7.765386  14.726334       47.964260\n",
       "1  1.919201  7.765386  14.726334       16.945978\n",
       "2  3.434198  7.765386  17.086743       56.023593\n",
       "3  7.256796  0.020329  12.464888       64.251647\n",
       "4  0.160171  7.765386  14.726334       21.367201"
      ]
     },
     "execution_count": 64,
     "metadata": {},
     "output_type": "execute_result"
    }
   ],
   "source": [
    "# avec Scikit-Learn\n",
    "from sklearn.preprocessing import MinMaxScaler\n",
    "minmaxscaler=MinMaxScaler((0,100))\n",
    "boston_0_100=minmaxscaler.fit_transform(boston_num)\n",
    "boston_0_100=pd.DataFrame(boston_0_100, index=boston_num.index, columns=boston_num.columns)\n",
    "boston_0_100.head()"
   ]
  },
  {
   "cell_type": "markdown",
   "metadata": {},
   "source": [
    "#### Transformation de Box-Cox\n",
    "Lorsque vous désirez obtenir des données suivant une loi normale, vous risquez d’avoir besoin d’une transformation qui permette de se rapprocher de cette loi.\n",
    "\n",
    "La transformation de Box-Cox est une transformation qui peut gérer ce problème.\n",
    "\n",
    "Elle ne s’applique qu’à des données positives. Celle-ci est disponible dans le package SciPy et s’utilise de la manière suivante :"
   ]
  },
  {
   "cell_type": "code",
   "execution_count": 65,
   "metadata": {},
   "outputs": [],
   "source": [
    "from scipy import stats\n",
    "total_earning_trans = stats.boxcox(\n",
    "    boston_num[\"TOTAL EARNINGS\"]\n",
    ")"
   ]
  },
  {
   "cell_type": "markdown",
   "metadata": {},
   "source": [
    "### 4.3.11 Echantillonnage des données\n",
    "\n",
    "Nous allons présenter deux approches d’échantillonnage :\n",
    "\n",
    "- l'échantillonnage aléatoire sans remise,\n",
    "- l'échantillonnage stratifié.\n",
    "\n",
    "Pandas propose une méthode d’échantillonnage simple à mettre en oeuvre, il s’agit de la méthode sample.\n",
    "Si on désire échantillonner aléatoirement 1000 lignes de notre base Boston, on utilisera :"
   ]
  },
  {
   "cell_type": "code",
   "execution_count": 66,
   "metadata": {},
   "outputs": [
    {
     "data": {
      "text/plain": [
       "(1000, 12)"
      ]
     },
     "execution_count": 66,
     "metadata": {},
     "output_type": "execute_result"
    }
   ],
   "source": [
    "boston_aleat_1000 = boston.sample(n=1000)\n",
    "boston_aleat_1000.shape"
   ]
  },
  {
   "cell_type": "markdown",
   "metadata": {},
   "source": [
    "On peut se servir du paramètre frac = si on désire obtenir un échantillon de la taille d’une fraction du jeu de données initial.\n",
    "\n",
    "L’échantillonnage stratifié consiste à reproduire dans vos échantillons les mêmes répartitions de certaines variables que dans l’échantillon initial.\n",
    "\n",
    "Il peut se faire avec Pandas ou avec Scikit-Learn. On utilisera dans ce cas le listing des logements disponibles à Paris. \n",
    "\n",
    "Si nous voulons échantillonner 10 % des logements en conservant la répartition du type de chambre (room_type), on utilisera :"
   ]
  },
  {
   "cell_type": "code",
   "execution_count": 67,
   "metadata": {},
   "outputs": [
    {
     "data": {
      "text/plain": [
       "room_type\n",
       "Entire home/apt    0.8966\n",
       "Private room       0.1006\n",
       "Shared room        0.0018\n",
       "Hotel room         0.0010\n",
       "Name: proportion, dtype: float64"
      ]
     },
     "execution_count": 67,
     "metadata": {},
     "output_type": "execute_result"
    }
   ],
   "source": [
    "# répartition dans l’échantillon initial\n",
    "listing[\"room_type\"].value_counts(normalize=True)"
   ]
  },
  {
   "cell_type": "code",
   "execution_count": 68,
   "metadata": {},
   "outputs": [
    {
     "name": "stderr",
     "output_type": "stream",
     "text": [
      "C:\\Users\\ej\\AppData\\Local\\Temp\\ipykernel_17628\\3830070373.py:2: DeprecationWarning: DataFrameGroupBy.apply operated on the grouping columns. This behavior is deprecated, and in a future version of pandas the grouping columns will be excluded from the operation. Either pass `include_groups=False` to exclude the groupings or explicitly select the grouping columns after groupby to silence this warning.\n",
      "  listing_sample = listing.groupby('room_type').apply(lambda x : x.sample(frac=.1))\n"
     ]
    },
    {
     "data": {
      "text/plain": [
       "room_type\n",
       "Entire home/apt    0.897796\n",
       "Private room       0.100200\n",
       "Shared room        0.002004\n",
       "Name: proportion, dtype: float64"
      ]
     },
     "execution_count": 68,
     "metadata": {},
     "output_type": "execute_result"
    }
   ],
   "source": [
    "# échantillonnage stratifié\n",
    "listing_sample = listing.groupby('room_type').apply(lambda x : x.sample(frac=.1))\n",
    "# repartition dans l’échantillon final\n",
    "listing_sample[\"room_type\"].value_counts(normalize=True)"
   ]
  },
  {
   "cell_type": "markdown",
   "metadata": {},
   "source": [
    "### 4.3.12 La construction de tableaux croisés\n",
    "\n",
    "Les tableaux croisés peuvent être très utiles pour visualiser des croisements de colonnes de variables qualitatives et les intégrer dans d’autres calculs.\n",
    "Deux fonctions dans Pandas sont utiles : la méthode frame.pivot_table() et la fonction pd.crosstab().\n",
    "\n",
    "La seule différence entre ces deux approches réside dans les données qui sont acceptées dans chaque fonction. Pour pivot_table, sachant que c’est une méthode\n",
    "appliquée à un DataFrame, toutes les données doivent venir de ce DataFrame. La fonction crosstab est différente, elle peut prendre en entrée des données issues\n",
    "de plusieurs DataFrame ou d’arrays.\n",
    "\n",
    "Si nous reprenons nos données AirBnB et que nous désirons croiser deux colonnes,\n",
    "nous allons utiliser :"
   ]
  },
  {
   "cell_type": "code",
   "execution_count": 69,
   "metadata": {},
   "outputs": [
    {
     "data": {
      "text/html": [
       "<div>\n",
       "<style scoped>\n",
       "    .dataframe tbody tr th:only-of-type {\n",
       "        vertical-align: middle;\n",
       "    }\n",
       "\n",
       "    .dataframe tbody tr th {\n",
       "        vertical-align: top;\n",
       "    }\n",
       "\n",
       "    .dataframe thead th {\n",
       "        text-align: right;\n",
       "    }\n",
       "</style>\n",
       "<table border=\"1\" class=\"dataframe\">\n",
       "  <thead>\n",
       "    <tr style=\"text-align: right;\">\n",
       "      <th>room_type</th>\n",
       "      <th>Entire home/apt</th>\n",
       "      <th>Hotel room</th>\n",
       "      <th>Private room</th>\n",
       "      <th>Shared room</th>\n",
       "    </tr>\n",
       "    <tr>\n",
       "      <th>instant_bookable</th>\n",
       "      <th></th>\n",
       "      <th></th>\n",
       "      <th></th>\n",
       "      <th></th>\n",
       "    </tr>\n",
       "  </thead>\n",
       "  <tbody>\n",
       "    <tr>\n",
       "      <th>f</th>\n",
       "      <td>3712</td>\n",
       "      <td>0</td>\n",
       "      <td>406</td>\n",
       "      <td>6</td>\n",
       "    </tr>\n",
       "    <tr>\n",
       "      <th>t</th>\n",
       "      <td>771</td>\n",
       "      <td>5</td>\n",
       "      <td>97</td>\n",
       "      <td>3</td>\n",
       "    </tr>\n",
       "  </tbody>\n",
       "</table>\n",
       "</div>"
      ],
      "text/plain": [
       "room_type         Entire home/apt  Hotel room  Private room  Shared room\n",
       "instant_bookable                                                        \n",
       "f                            3712           0           406            6\n",
       "t                             771           5            97            3"
      ]
     },
     "execution_count": 69,
     "metadata": {},
     "output_type": "execute_result"
    }
   ],
   "source": [
    "pd.crosstab(\n",
    "    listing['instant_bookable'], \n",
    "    listing['room_type']\n",
    ")"
   ]
  },
  {
   "cell_type": "markdown",
   "metadata": {},
   "source": [
    "Par défaut, cet outil inclut des comptages dans le tableau. Mais si on désirait afficher la moyenne du prix des logements, on utiliserait :"
   ]
  },
  {
   "cell_type": "code",
   "execution_count": 70,
   "metadata": {},
   "outputs": [
    {
     "data": {
      "text/html": [
       "<div>\n",
       "<style scoped>\n",
       "    .dataframe tbody tr th:only-of-type {\n",
       "        vertical-align: middle;\n",
       "    }\n",
       "\n",
       "    .dataframe tbody tr th {\n",
       "        vertical-align: top;\n",
       "    }\n",
       "\n",
       "    .dataframe thead th {\n",
       "        text-align: right;\n",
       "    }\n",
       "</style>\n",
       "<table border=\"1\" class=\"dataframe\">\n",
       "  <thead>\n",
       "    <tr style=\"text-align: right;\">\n",
       "      <th>room_type</th>\n",
       "      <th>Entire home/apt</th>\n",
       "      <th>Hotel room</th>\n",
       "      <th>Private room</th>\n",
       "      <th>Shared room</th>\n",
       "    </tr>\n",
       "    <tr>\n",
       "      <th>instant_bookable</th>\n",
       "      <th></th>\n",
       "      <th></th>\n",
       "      <th></th>\n",
       "      <th></th>\n",
       "    </tr>\n",
       "  </thead>\n",
       "  <tbody>\n",
       "    <tr>\n",
       "      <th>f</th>\n",
       "      <td>127.322651</td>\n",
       "      <td>NaN</td>\n",
       "      <td>61.674877</td>\n",
       "      <td>73.166667</td>\n",
       "    </tr>\n",
       "    <tr>\n",
       "      <th>t</th>\n",
       "      <td>124.886770</td>\n",
       "      <td>217.0</td>\n",
       "      <td>67.597938</td>\n",
       "      <td>41.000000</td>\n",
       "    </tr>\n",
       "  </tbody>\n",
       "</table>\n",
       "</div>"
      ],
      "text/plain": [
       "room_type         Entire home/apt  Hotel room  Private room  Shared room\n",
       "instant_bookable                                                        \n",
       "f                      127.322651         NaN     61.674877    73.166667\n",
       "t                      124.886770       217.0     67.597938    41.000000"
      ]
     },
     "execution_count": 70,
     "metadata": {},
     "output_type": "execute_result"
    }
   ],
   "source": [
    "pd.crosstab(listing['instant_bookable'], \n",
    "            listing['room_type'],\n",
    "            values=listing['price'],\n",
    "            aggfunc=\"mean\")"
   ]
  },
  {
   "cell_type": "code",
   "execution_count": 71,
   "metadata": {},
   "outputs": [
    {
     "data": {
      "text/html": [
       "<div>\n",
       "<style scoped>\n",
       "    .dataframe tbody tr th:only-of-type {\n",
       "        vertical-align: middle;\n",
       "    }\n",
       "\n",
       "    .dataframe tbody tr th {\n",
       "        vertical-align: top;\n",
       "    }\n",
       "\n",
       "    .dataframe thead th {\n",
       "        text-align: right;\n",
       "    }\n",
       "</style>\n",
       "<table border=\"1\" class=\"dataframe\">\n",
       "  <thead>\n",
       "    <tr style=\"text-align: right;\">\n",
       "      <th>room_type</th>\n",
       "      <th>Entire home/apt</th>\n",
       "      <th>Hotel room</th>\n",
       "      <th>Private room</th>\n",
       "      <th>Shared room</th>\n",
       "    </tr>\n",
       "    <tr>\n",
       "      <th>instant_bookable</th>\n",
       "      <th></th>\n",
       "      <th></th>\n",
       "      <th></th>\n",
       "      <th></th>\n",
       "    </tr>\n",
       "  </thead>\n",
       "  <tbody>\n",
       "    <tr>\n",
       "      <th>f</th>\n",
       "      <td>127.322651</td>\n",
       "      <td>NaN</td>\n",
       "      <td>61.674877</td>\n",
       "      <td>73.166667</td>\n",
       "    </tr>\n",
       "    <tr>\n",
       "      <th>t</th>\n",
       "      <td>124.886770</td>\n",
       "      <td>217.0</td>\n",
       "      <td>67.597938</td>\n",
       "      <td>41.000000</td>\n",
       "    </tr>\n",
       "  </tbody>\n",
       "</table>\n",
       "</div>"
      ],
      "text/plain": [
       "room_type         Entire home/apt  Hotel room  Private room  Shared room\n",
       "instant_bookable                                                        \n",
       "f                      127.322651         NaN     61.674877    73.166667\n",
       "t                      124.886770       217.0     67.597938    41.000000"
      ]
     },
     "execution_count": 71,
     "metadata": {},
     "output_type": "execute_result"
    }
   ],
   "source": [
    "listing.pivot_table(values='price', \n",
    "                    index='instant_bookable', \n",
    "                    columns='room_type',\n",
    "                    aggfunc='mean')"
   ]
  },
  {
   "cell_type": "markdown",
   "metadata": {},
   "source": [
    "On peut aller plus loin en combinant plusieurs variables et en combinant plusieurs statistiques dans le tableau :"
   ]
  },
  {
   "cell_type": "code",
   "execution_count": 72,
   "metadata": {},
   "outputs": [
    {
     "data": {
      "text/html": [
       "<div>\n",
       "<style scoped>\n",
       "    .dataframe tbody tr th:only-of-type {\n",
       "        vertical-align: middle;\n",
       "    }\n",
       "\n",
       "    .dataframe tbody tr th {\n",
       "        vertical-align: top;\n",
       "    }\n",
       "\n",
       "    .dataframe thead tr th {\n",
       "        text-align: left;\n",
       "    }\n",
       "\n",
       "    .dataframe thead tr:last-of-type th {\n",
       "        text-align: right;\n",
       "    }\n",
       "</style>\n",
       "<table border=\"1\" class=\"dataframe\">\n",
       "  <thead>\n",
       "    <tr>\n",
       "      <th></th>\n",
       "      <th></th>\n",
       "      <th colspan=\"4\" halign=\"left\">mean</th>\n",
       "      <th colspan=\"4\" halign=\"left\">count</th>\n",
       "    </tr>\n",
       "    <tr>\n",
       "      <th></th>\n",
       "      <th>room_type</th>\n",
       "      <th>Entire home/apt</th>\n",
       "      <th>Hotel room</th>\n",
       "      <th>Private room</th>\n",
       "      <th>Shared room</th>\n",
       "      <th>Entire home/apt</th>\n",
       "      <th>Hotel room</th>\n",
       "      <th>Private room</th>\n",
       "      <th>Shared room</th>\n",
       "    </tr>\n",
       "    <tr>\n",
       "      <th>host_is_superhost</th>\n",
       "      <th>instant_bookable</th>\n",
       "      <th></th>\n",
       "      <th></th>\n",
       "      <th></th>\n",
       "      <th></th>\n",
       "      <th></th>\n",
       "      <th></th>\n",
       "      <th></th>\n",
       "      <th></th>\n",
       "    </tr>\n",
       "  </thead>\n",
       "  <tbody>\n",
       "    <tr>\n",
       "      <th rowspan=\"2\" valign=\"top\">f</th>\n",
       "      <th>f</th>\n",
       "      <td>124.529297</td>\n",
       "      <td>NaN</td>\n",
       "      <td>60.272727</td>\n",
       "      <td>51.0</td>\n",
       "      <td>3116.0</td>\n",
       "      <td>NaN</td>\n",
       "      <td>308.0</td>\n",
       "      <td>4.0</td>\n",
       "    </tr>\n",
       "    <tr>\n",
       "      <th>t</th>\n",
       "      <td>115.585641</td>\n",
       "      <td>161.666667</td>\n",
       "      <td>65.680000</td>\n",
       "      <td>40.0</td>\n",
       "      <td>562.0</td>\n",
       "      <td>3.0</td>\n",
       "      <td>75.0</td>\n",
       "      <td>1.0</td>\n",
       "    </tr>\n",
       "    <tr>\n",
       "      <th rowspan=\"2\" valign=\"top\">t</th>\n",
       "      <th>f</th>\n",
       "      <td>141.926829</td>\n",
       "      <td>NaN</td>\n",
       "      <td>66.081633</td>\n",
       "      <td>117.5</td>\n",
       "      <td>596.0</td>\n",
       "      <td>NaN</td>\n",
       "      <td>98.0</td>\n",
       "      <td>2.0</td>\n",
       "    </tr>\n",
       "    <tr>\n",
       "      <th>t</th>\n",
       "      <td>149.897464</td>\n",
       "      <td>300.000000</td>\n",
       "      <td>74.136364</td>\n",
       "      <td>41.5</td>\n",
       "      <td>209.0</td>\n",
       "      <td>2.0</td>\n",
       "      <td>22.0</td>\n",
       "      <td>2.0</td>\n",
       "    </tr>\n",
       "  </tbody>\n",
       "</table>\n",
       "</div>"
      ],
      "text/plain": [
       "                                              mean                           \\\n",
       "room_type                          Entire home/apt  Hotel room Private room   \n",
       "host_is_superhost instant_bookable                                            \n",
       "f                 f                     124.529297         NaN    60.272727   \n",
       "                  t                     115.585641  161.666667    65.680000   \n",
       "t                 f                     141.926829         NaN    66.081633   \n",
       "                  t                     149.897464  300.000000    74.136364   \n",
       "\n",
       "                                                         count             \\\n",
       "room_type                          Shared room Entire home/apt Hotel room   \n",
       "host_is_superhost instant_bookable                                          \n",
       "f                 f                       51.0          3116.0        NaN   \n",
       "                  t                       40.0           562.0        3.0   \n",
       "t                 f                      117.5           596.0        NaN   \n",
       "                  t                       41.5           209.0        2.0   \n",
       "\n",
       "                                                             \n",
       "room_type                          Private room Shared room  \n",
       "host_is_superhost instant_bookable                           \n",
       "f                 f                       308.0         4.0  \n",
       "                  t                        75.0         1.0  \n",
       "t                 f                        98.0         2.0  \n",
       "                  t                        22.0         2.0  "
      ]
     },
     "execution_count": 72,
     "metadata": {},
     "output_type": "execute_result"
    }
   ],
   "source": [
    "listing.pivot_table(values='price',\n",
    "                    index=['host_is_superhost','instant_bookable'],\n",
    "                    columns='room_type', \n",
    "                    aggfunc=['mean','count'])"
   ]
  },
  {
   "cell_type": "markdown",
   "metadata": {},
   "source": [
    "## 4.4 Extraire des statistiques descriptives\n",
    "\n",
    "### 4.4.1 Statistiques pour données quantitatives\n",
    "\n",
    "Lorsqu'on calcule des statistiques descriptives spécifiques aux données quantitatives sur un DataFrame complet, Pandas n’affiche des résultats que pour les variables quantitatives (sans message d’erreur pour les colonnes non quantitatives).\n",
    "\n",
    "Statistiques descriptives de base\n",
    "Quelques méthodes statistiques universelles de Pandas :"
   ]
  },
  {
   "cell_type": "code",
   "execution_count": 73,
   "metadata": {},
   "outputs": [
    {
     "data": {
      "text/plain": [
       "OTHER              3875.576450\n",
       "INJURED           22166.982634\n",
       "DETAIL            19292.675939\n",
       "TOTAL EARNINGS    71517.447431\n",
       "dtype: float64"
      ]
     },
     "execution_count": 73,
     "metadata": {},
     "output_type": "execute_result"
    }
   ],
   "source": [
    "# moyenne\n",
    "boston.select_dtypes(\"number\").mean()"
   ]
  },
  {
   "cell_type": "code",
   "execution_count": 74,
   "metadata": {},
   "outputs": [
    {
     "data": {
      "text/plain": [
       "OTHER             4.640917e+07\n",
       "INJURED           5.092599e+07\n",
       "DETAIL            5.127755e+07\n",
       "TOTAL EARNINGS    2.614014e+09\n",
       "dtype: float64"
      ]
     },
     "execution_count": 74,
     "metadata": {},
     "output_type": "execute_result"
    }
   ],
   "source": [
    "# variance\n",
    "boston.select_dtypes(\"number\").var()"
   ]
  },
  {
   "cell_type": "code",
   "execution_count": 75,
   "metadata": {},
   "outputs": [
    {
     "data": {
      "text/plain": [
       "OTHER              6812.427267\n",
       "INJURED            7136.245092\n",
       "DETAIL             7160.834192\n",
       "TOTAL EARNINGS    51127.428966\n",
       "dtype: float64"
      ]
     },
     "execution_count": 75,
     "metadata": {},
     "output_type": "execute_result"
    }
   ],
   "source": [
    "# écart-type\n",
    "boston.select_dtypes(\"number\").std()"
   ]
  },
  {
   "cell_type": "code",
   "execution_count": 76,
   "metadata": {},
   "outputs": [
    {
     "data": {
      "text/plain": [
       "OTHER              3875.576450\n",
       "INJURED           22166.982634\n",
       "DETAIL            19292.675939\n",
       "TOTAL EARNINGS    66218.240000\n",
       "dtype: float64"
      ]
     },
     "execution_count": 76,
     "metadata": {},
     "output_type": "execute_result"
    }
   ],
   "source": [
    "# médiane\n",
    "boston.select_dtypes(\"number\").median()"
   ]
  },
  {
   "cell_type": "code",
   "execution_count": 77,
   "metadata": {},
   "outputs": [
    {
     "data": {
      "text/html": [
       "<div>\n",
       "<style scoped>\n",
       "    .dataframe tbody tr th:only-of-type {\n",
       "        vertical-align: middle;\n",
       "    }\n",
       "\n",
       "    .dataframe tbody tr th {\n",
       "        vertical-align: top;\n",
       "    }\n",
       "\n",
       "    .dataframe thead th {\n",
       "        text-align: right;\n",
       "    }\n",
       "</style>\n",
       "<table border=\"1\" class=\"dataframe\">\n",
       "  <thead>\n",
       "    <tr style=\"text-align: right;\">\n",
       "      <th></th>\n",
       "      <th>OTHER</th>\n",
       "      <th>INJURED</th>\n",
       "      <th>DETAIL</th>\n",
       "      <th>TOTAL EARNINGS</th>\n",
       "    </tr>\n",
       "  </thead>\n",
       "  <tbody>\n",
       "    <tr>\n",
       "      <th>OTHER</th>\n",
       "      <td>1.000000</td>\n",
       "      <td>0.070013</td>\n",
       "      <td>0.024574</td>\n",
       "      <td>0.126975</td>\n",
       "    </tr>\n",
       "    <tr>\n",
       "      <th>INJURED</th>\n",
       "      <td>0.070013</td>\n",
       "      <td>1.000000</td>\n",
       "      <td>-0.006834</td>\n",
       "      <td>0.007562</td>\n",
       "    </tr>\n",
       "    <tr>\n",
       "      <th>DETAIL</th>\n",
       "      <td>0.024574</td>\n",
       "      <td>-0.006834</td>\n",
       "      <td>1.000000</td>\n",
       "      <td>0.178945</td>\n",
       "    </tr>\n",
       "    <tr>\n",
       "      <th>TOTAL EARNINGS</th>\n",
       "      <td>0.126975</td>\n",
       "      <td>0.007562</td>\n",
       "      <td>0.178945</td>\n",
       "      <td>1.000000</td>\n",
       "    </tr>\n",
       "  </tbody>\n",
       "</table>\n",
       "</div>"
      ],
      "text/plain": [
       "                   OTHER   INJURED    DETAIL  TOTAL EARNINGS\n",
       "OTHER           1.000000  0.070013  0.024574        0.126975\n",
       "INJURED         0.070013  1.000000 -0.006834        0.007562\n",
       "DETAIL          0.024574 -0.006834  1.000000        0.178945\n",
       "TOTAL EARNINGS  0.126975  0.007562  0.178945        1.000000"
      ]
     },
     "execution_count": 77,
     "metadata": {},
     "output_type": "execute_result"
    }
   ],
   "source": [
    "# matrice de corrélation\n",
    "boston.select_dtypes(\"number\").corr()"
   ]
  },
  {
   "cell_type": "markdown",
   "metadata": {},
   "source": [
    "Une autre fonction intéressante est la méthode .describe() qui affiche un certain nombre de statistiques pour les variables quantitatives (elle ne fait que cela par défaut mais nous verrons plus loin qu’elle peut s’appliquer aux variables qualitatives)."
   ]
  },
  {
   "cell_type": "code",
   "execution_count": 78,
   "metadata": {},
   "outputs": [
    {
     "data": {
      "text/html": [
       "<div>\n",
       "<style scoped>\n",
       "    .dataframe tbody tr th:only-of-type {\n",
       "        vertical-align: middle;\n",
       "    }\n",
       "\n",
       "    .dataframe tbody tr th {\n",
       "        vertical-align: top;\n",
       "    }\n",
       "\n",
       "    .dataframe thead th {\n",
       "        text-align: right;\n",
       "    }\n",
       "</style>\n",
       "<table border=\"1\" class=\"dataframe\">\n",
       "  <thead>\n",
       "    <tr style=\"text-align: right;\">\n",
       "      <th></th>\n",
       "      <th>OTHER</th>\n",
       "      <th>INJURED</th>\n",
       "      <th>DETAIL</th>\n",
       "      <th>TOTAL EARNINGS</th>\n",
       "    </tr>\n",
       "  </thead>\n",
       "  <tbody>\n",
       "    <tr>\n",
       "      <th>count</th>\n",
       "      <td>22245.000000</td>\n",
       "      <td>22245.000000</td>\n",
       "      <td>22245.000000</td>\n",
       "      <td>22245.000000</td>\n",
       "    </tr>\n",
       "    <tr>\n",
       "      <th>mean</th>\n",
       "      <td>3875.576450</td>\n",
       "      <td>22166.982634</td>\n",
       "      <td>19292.675939</td>\n",
       "      <td>71517.447431</td>\n",
       "    </tr>\n",
       "    <tr>\n",
       "      <th>std</th>\n",
       "      <td>6812.427267</td>\n",
       "      <td>7136.245092</td>\n",
       "      <td>7160.834192</td>\n",
       "      <td>51127.428966</td>\n",
       "    </tr>\n",
       "    <tr>\n",
       "      <th>min</th>\n",
       "      <td>0.000000</td>\n",
       "      <td>0.000000</td>\n",
       "      <td>0.000000</td>\n",
       "      <td>3.500000</td>\n",
       "    </tr>\n",
       "    <tr>\n",
       "      <th>25%</th>\n",
       "      <td>850.000000</td>\n",
       "      <td>22166.982634</td>\n",
       "      <td>19292.675939</td>\n",
       "      <td>30160.550000</td>\n",
       "    </tr>\n",
       "    <tr>\n",
       "      <th>50%</th>\n",
       "      <td>3875.576450</td>\n",
       "      <td>22166.982634</td>\n",
       "      <td>19292.675939</td>\n",
       "      <td>66218.240000</td>\n",
       "    </tr>\n",
       "    <tr>\n",
       "      <th>75%</th>\n",
       "      <td>3875.576450</td>\n",
       "      <td>22166.982634</td>\n",
       "      <td>19292.675939</td>\n",
       "      <td>102602.380000</td>\n",
       "    </tr>\n",
       "    <tr>\n",
       "      <th>max</th>\n",
       "      <td>187299.320000</td>\n",
       "      <td>285458.880000</td>\n",
       "      <td>131008.000000</td>\n",
       "      <td>366232.650000</td>\n",
       "    </tr>\n",
       "  </tbody>\n",
       "</table>\n",
       "</div>"
      ],
      "text/plain": [
       "               OTHER        INJURED         DETAIL  TOTAL EARNINGS\n",
       "count   22245.000000   22245.000000   22245.000000    22245.000000\n",
       "mean     3875.576450   22166.982634   19292.675939    71517.447431\n",
       "std      6812.427267    7136.245092    7160.834192    51127.428966\n",
       "min         0.000000       0.000000       0.000000        3.500000\n",
       "25%       850.000000   22166.982634   19292.675939    30160.550000\n",
       "50%      3875.576450   22166.982634   19292.675939    66218.240000\n",
       "75%      3875.576450   22166.982634   19292.675939   102602.380000\n",
       "max    187299.320000  285458.880000  131008.000000   366232.650000"
      ]
     },
     "execution_count": 78,
     "metadata": {},
     "output_type": "execute_result"
    }
   ],
   "source": [
    "boston.describe()"
   ]
  },
  {
   "cell_type": "markdown",
   "metadata": {},
   "source": [
    "Si vous voulez construire votre propre DataFrame de statistiques, vous pouvez utiliser la méthode .agg(). Par exemple :"
   ]
  },
  {
   "cell_type": "code",
   "execution_count": 79,
   "metadata": {},
   "outputs": [
    {
     "data": {
      "text/html": [
       "<div>\n",
       "<style scoped>\n",
       "    .dataframe tbody tr th:only-of-type {\n",
       "        vertical-align: middle;\n",
       "    }\n",
       "\n",
       "    .dataframe tbody tr th {\n",
       "        vertical-align: top;\n",
       "    }\n",
       "\n",
       "    .dataframe thead th {\n",
       "        text-align: right;\n",
       "    }\n",
       "</style>\n",
       "<table border=\"1\" class=\"dataframe\">\n",
       "  <thead>\n",
       "    <tr style=\"text-align: right;\">\n",
       "      <th></th>\n",
       "      <th>OTHER</th>\n",
       "      <th>INJURED</th>\n",
       "      <th>DETAIL</th>\n",
       "      <th>TOTAL EARNINGS</th>\n",
       "    </tr>\n",
       "  </thead>\n",
       "  <tbody>\n",
       "    <tr>\n",
       "      <th>mean</th>\n",
       "      <td>3875.576450</td>\n",
       "      <td>22166.982634</td>\n",
       "      <td>19292.675939</td>\n",
       "      <td>71517.447431</td>\n",
       "    </tr>\n",
       "    <tr>\n",
       "      <th>std</th>\n",
       "      <td>6812.427267</td>\n",
       "      <td>7136.245092</td>\n",
       "      <td>7160.834192</td>\n",
       "      <td>51127.428966</td>\n",
       "    </tr>\n",
       "  </tbody>\n",
       "</table>\n",
       "</div>"
      ],
      "text/plain": [
       "            OTHER       INJURED        DETAIL  TOTAL EARNINGS\n",
       "mean  3875.576450  22166.982634  19292.675939    71517.447431\n",
       "std   6812.427267   7136.245092   7160.834192    51127.428966"
      ]
     },
     "execution_count": 79,
     "metadata": {},
     "output_type": "execute_result"
    }
   ],
   "source": [
    "boston.select_dtypes(\"number\").agg([\"mean\",\"std\"])"
   ]
  },
  {
   "cell_type": "markdown",
   "metadata": {},
   "source": [
    "#### Des statistiques plus avancées\n",
    "Il peut arriver que des statistiques plus avancées soient nécessaires, notamment en se basant sur des distributions de probabilités. Pour cela, on utilisera plutôt le\n",
    "package SciPy et plus précisément scipy.stats qui possède de nombreuses statistiques importantes.\n",
    "\n",
    "Par exemple, on peut calculer l’asymétrie d’une distribution (skewness) en utilisant :"
   ]
  },
  {
   "cell_type": "code",
   "execution_count": 80,
   "metadata": {},
   "outputs": [
    {
     "data": {
      "text/plain": [
       "26.429001118525413"
      ]
     },
     "execution_count": 80,
     "metadata": {},
     "output_type": "execute_result"
    }
   ],
   "source": [
    "from scipy.stats import skew\n",
    "skew(listing[\"price\"])"
   ]
  },
  {
   "cell_type": "markdown",
   "metadata": {},
   "source": [
    "### 4.4.2 Statistiques pour données qualitatives\n",
    "Les statistiques descriptives pour des variables qualitatives sont très différentes de celles pour des variables quantitatives. Ainsi, on s’intéresse généralement au mode et à la fréquence des modalités de la variable, Pour cela, on pourra obtenir des statistiques simples en utilisant la méthode *.describe(include = \"all\")*.\n",
    "\n",
    "D’autres approches sont possibles mais elles s’appliqueront variables par variables sur un objet Series. Ainsi, on peut utiliser :"
   ]
  },
  {
   "cell_type": "code",
   "execution_count": 81,
   "metadata": {},
   "outputs": [
    {
     "data": {
      "text/plain": [
       "4"
      ]
     },
     "execution_count": 81,
     "metadata": {},
     "output_type": "execute_result"
    }
   ],
   "source": [
    "# nombre de modalités\n",
    "listing[\"room_type\"].nunique()"
   ]
  },
  {
   "cell_type": "code",
   "execution_count": 82,
   "metadata": {},
   "outputs": [
    {
     "data": {
      "text/plain": [
       "array(['Entire home/apt', 'Private room', 'Hotel room', 'Shared room'],\n",
       "      dtype=object)"
      ]
     },
     "execution_count": 82,
     "metadata": {},
     "output_type": "execute_result"
    }
   ],
   "source": [
    "# liste des modalités\n",
    "listing[\"room_type\"].unique()"
   ]
  },
  {
   "cell_type": "code",
   "execution_count": 83,
   "metadata": {},
   "outputs": [
    {
     "data": {
      "text/plain": [
       "room_type\n",
       "Entire home/apt    4483\n",
       "Private room        503\n",
       "Shared room           9\n",
       "Hotel room            5\n",
       "Name: count, dtype: int64"
      ]
     },
     "execution_count": 83,
     "metadata": {},
     "output_type": "execute_result"
    }
   ],
   "source": [
    "# liste et fréquence d’apparition des modalités\n",
    "listing[\"room_type\"].value_counts()"
   ]
  },
  {
   "cell_type": "code",
   "execution_count": 84,
   "metadata": {},
   "outputs": [
    {
     "data": {
      "text/plain": [
       "0    Entire home/apt\n",
       "Name: room_type, dtype: object"
      ]
     },
     "execution_count": 84,
     "metadata": {},
     "output_type": "execute_result"
    }
   ],
   "source": [
    "# calcul du mode\n",
    "listing[\"room_type\"].mode()"
   ]
  },
  {
   "cell_type": "markdown",
   "metadata": {},
   "source": [
    "Ces méthodes vont compter le nombre de modalité, afficher toutes les modalités, afficher les modalités ordonnées par fréquence d’apparition avec la fréquence associée,et enfin afficher le mode (la modalité avec la fréquence la plus élevée).\n",
    "\n",
    "La méthode .value_counts() possède un certain nombre de paramètres pour inclure les données manquantes, normaliser les résultats..."
   ]
  },
  {
   "cell_type": "markdown",
   "metadata": {},
   "source": [
    "## 4.5 Utilisation du groupby pour décrire des données\n",
    "\n",
    "### 4.5.1 Le principe\n",
    "\n",
    "La méthode .groupby est une méthode qui permet de construire un objet à partir d’un DataFrame. Cet objet sépare les données en fonction des modalités d’une ou de plusieurs variables qualitatives. On obtiendra ainsi de manière quasi-immédiate des\n",
    "indicateurs par modalités. \n",
    "\n",
    "De nombreuses méthodes sont disponibles sur ces objets groupby afin de maximiser la simplicité de manipulation de données.\n",
    "Généralement, on suppose que le groupby est basé sur trois étapes : séparation/application et combinaison.\n",
    "\n",
    "Par exemple, sur les données AirBnB, on peut faire cela par type de chambres :"
   ]
  },
  {
   "cell_type": "code",
   "execution_count": 85,
   "metadata": {},
   "outputs": [
    {
     "data": {
      "text/plain": [
       "room_type\n",
       "Entire home/apt    126.903721\n",
       "Hotel room         217.000000\n",
       "Private room        62.817097\n",
       "Shared room         62.444444\n",
       "Name: price, dtype: float64"
      ]
     },
     "execution_count": 85,
     "metadata": {},
     "output_type": "execute_result"
    }
   ],
   "source": [
    "listing_group_room = listing.groupby(\"room_type\")\n",
    "listing_group_room[\"price\"].mean()"
   ]
  },
  {
   "cell_type": "markdown",
   "metadata": {},
   "source": [
    "On sépare et on calcule la moyenne, et on rassemble les résultats dans un nouvel objet. On affiche donc dans un objet Series les prix moyens par type de chambre. On voit ici qu’on a utilisé la méthode .mean() de la classe des objets groupby."
   ]
  },
  {
   "cell_type": "markdown",
   "metadata": {},
   "source": [
    "### 4.5.2 Les opérations sur les objets groupby\n",
    "On peut très simplement obtenir des statistiques plus poussées avec des groupby.\n",
    "\n",
    "De nombreuses méthodes de transformation de données pourront être appliquées avec une étape .groupby()."
   ]
  },
  {
   "cell_type": "markdown",
   "metadata": {},
   "source": [
    "### 4.5.3 Apply : une méthode importante pour manipuler vos groupby\n",
    "\n",
    "La méthode apply permet d’appliquer n’importe quelle fonction sur vos données.\n",
    "\n",
    "Si par exemple, vous désirez calculer l’écart salarial au sein de chaque département sur les données des salariés de la ville de Boston, vous allez devoir utiliser la différence entre le maximum et le minimum. Il n’existe pas de fonction universelle. \n",
    "\n",
    "Nous allons donc utiliser un groupby et la méthode apply :"
   ]
  },
  {
   "cell_type": "code",
   "execution_count": 86,
   "metadata": {},
   "outputs": [
    {
     "data": {
      "text/plain": [
       "DEPARTMENT NAME\n",
       "Boston Police Department    366229.15\n",
       "BPS Business Service        284561.66\n",
       "Boston Fire Department      276546.71\n",
       "Superintendent              243562.93\n",
       "Kilmer K-8                  228972.45\n",
       "Name: TOTAL EARNINGS, dtype: float64"
      ]
     },
     "execution_count": 86,
     "metadata": {},
     "output_type": "execute_result"
    }
   ],
   "source": [
    "diff_salaires_dep = boston.groupby('DEPARTMENT NAME')['TOTAL EARNINGS']\\\n",
    "                        .apply(lambda x : x.max()-x.min())\n",
    "diff_salaires_dep.sort_values(ascending = False).head()"
   ]
  },
  {
   "cell_type": "markdown",
   "metadata": {},
   "source": [
    "### 4.5.4 Cas concret d’utilisation d’un groupby\n",
    "\n",
    "Nous travaillons sur les données AirBnB. Nous désirons obtenir des statistiques descriptives sur les prix et leurs variations au sein de chaque arrondissement de Paris. Pour cela nous allons utiliser un groupby :"
   ]
  },
  {
   "cell_type": "code",
   "execution_count": 87,
   "metadata": {},
   "outputs": [
    {
     "data": {
      "text/plain": [
       "20"
      ]
     },
     "execution_count": 87,
     "metadata": {},
     "output_type": "execute_result"
    }
   ],
   "source": [
    "listing.neighbourhood_cleansed.nunique()"
   ]
  },
  {
   "cell_type": "code",
   "execution_count": 88,
   "metadata": {},
   "outputs": [
    {
     "data": {
      "text/html": [
       "<div>\n",
       "<style scoped>\n",
       "    .dataframe tbody tr th:only-of-type {\n",
       "        vertical-align: middle;\n",
       "    }\n",
       "\n",
       "    .dataframe tbody tr th {\n",
       "        vertical-align: top;\n",
       "    }\n",
       "\n",
       "    .dataframe thead th {\n",
       "        text-align: right;\n",
       "    }\n",
       "</style>\n",
       "<table border=\"1\" class=\"dataframe\">\n",
       "  <thead>\n",
       "    <tr style=\"text-align: right;\">\n",
       "      <th></th>\n",
       "      <th>mean</th>\n",
       "      <th>std</th>\n",
       "      <th>count</th>\n",
       "    </tr>\n",
       "    <tr>\n",
       "      <th>neighbourhood_cleansed</th>\n",
       "      <th></th>\n",
       "      <th></th>\n",
       "      <th></th>\n",
       "    </tr>\n",
       "  </thead>\n",
       "  <tbody>\n",
       "    <tr>\n",
       "      <th>Élysée</th>\n",
       "      <td>258.602273</td>\n",
       "      <td>851.591715</td>\n",
       "      <td>88</td>\n",
       "    </tr>\n",
       "    <tr>\n",
       "      <th>Passy</th>\n",
       "      <td>218.935543</td>\n",
       "      <td>570.924329</td>\n",
       "      <td>184</td>\n",
       "    </tr>\n",
       "    <tr>\n",
       "      <th>Palais-Bourbon</th>\n",
       "      <td>166.547826</td>\n",
       "      <td>133.839189</td>\n",
       "      <td>115</td>\n",
       "    </tr>\n",
       "    <tr>\n",
       "      <th>Luxembourg</th>\n",
       "      <td>157.780488</td>\n",
       "      <td>124.345829</td>\n",
       "      <td>164</td>\n",
       "    </tr>\n",
       "    <tr>\n",
       "      <th>Louvre</th>\n",
       "      <td>151.355455</td>\n",
       "      <td>93.740023</td>\n",
       "      <td>110</td>\n",
       "    </tr>\n",
       "    <tr>\n",
       "      <th>Hôtel-de-Ville</th>\n",
       "      <td>150.337316</td>\n",
       "      <td>113.021487</td>\n",
       "      <td>231</td>\n",
       "    </tr>\n",
       "    <tr>\n",
       "      <th>Temple</th>\n",
       "      <td>142.846806</td>\n",
       "      <td>89.976605</td>\n",
       "      <td>288</td>\n",
       "    </tr>\n",
       "    <tr>\n",
       "      <th>Panthéon</th>\n",
       "      <td>135.223146</td>\n",
       "      <td>117.455414</td>\n",
       "      <td>178</td>\n",
       "    </tr>\n",
       "    <tr>\n",
       "      <th>Bourse</th>\n",
       "      <td>126.175141</td>\n",
       "      <td>110.330845</td>\n",
       "      <td>177</td>\n",
       "    </tr>\n",
       "    <tr>\n",
       "      <th>Opéra</th>\n",
       "      <td>120.696085</td>\n",
       "      <td>75.017836</td>\n",
       "      <td>212</td>\n",
       "    </tr>\n",
       "    <tr>\n",
       "      <th>Batignolles-Monceau</th>\n",
       "      <td>113.459871</td>\n",
       "      <td>84.431921</td>\n",
       "      <td>233</td>\n",
       "    </tr>\n",
       "    <tr>\n",
       "      <th>Observatoire</th>\n",
       "      <td>111.594948</td>\n",
       "      <td>106.899365</td>\n",
       "      <td>192</td>\n",
       "    </tr>\n",
       "    <tr>\n",
       "      <th>Vaugirard</th>\n",
       "      <td>109.212754</td>\n",
       "      <td>79.997332</td>\n",
       "      <td>276</td>\n",
       "    </tr>\n",
       "    <tr>\n",
       "      <th>Reuilly</th>\n",
       "      <td>107.957933</td>\n",
       "      <td>101.725775</td>\n",
       "      <td>179</td>\n",
       "    </tr>\n",
       "    <tr>\n",
       "      <th>Popincourt</th>\n",
       "      <td>107.071606</td>\n",
       "      <td>152.286470</td>\n",
       "      <td>579</td>\n",
       "    </tr>\n",
       "    <tr>\n",
       "      <th>Entrepôt</th>\n",
       "      <td>106.164481</td>\n",
       "      <td>77.030045</td>\n",
       "      <td>424</td>\n",
       "    </tr>\n",
       "    <tr>\n",
       "      <th>Buttes-Montmartre</th>\n",
       "      <td>94.249118</td>\n",
       "      <td>85.384755</td>\n",
       "      <td>601</td>\n",
       "    </tr>\n",
       "    <tr>\n",
       "      <th>Gobelins</th>\n",
       "      <td>92.559554</td>\n",
       "      <td>54.730659</td>\n",
       "      <td>157</td>\n",
       "    </tr>\n",
       "    <tr>\n",
       "      <th>Buttes-Chaumont</th>\n",
       "      <td>91.926890</td>\n",
       "      <td>115.389358</td>\n",
       "      <td>299</td>\n",
       "    </tr>\n",
       "    <tr>\n",
       "      <th>Ménilmontant</th>\n",
       "      <td>84.909169</td>\n",
       "      <td>78.296367</td>\n",
       "      <td>313</td>\n",
       "    </tr>\n",
       "  </tbody>\n",
       "</table>\n",
       "</div>"
      ],
      "text/plain": [
       "                              mean         std  count\n",
       "neighbourhood_cleansed                               \n",
       "Élysée                  258.602273  851.591715     88\n",
       "Passy                   218.935543  570.924329    184\n",
       "Palais-Bourbon          166.547826  133.839189    115\n",
       "Luxembourg              157.780488  124.345829    164\n",
       "Louvre                  151.355455   93.740023    110\n",
       "Hôtel-de-Ville          150.337316  113.021487    231\n",
       "Temple                  142.846806   89.976605    288\n",
       "Panthéon                135.223146  117.455414    178\n",
       "Bourse                  126.175141  110.330845    177\n",
       "Opéra                   120.696085   75.017836    212\n",
       "Batignolles-Monceau     113.459871   84.431921    233\n",
       "Observatoire            111.594948  106.899365    192\n",
       "Vaugirard               109.212754   79.997332    276\n",
       "Reuilly                 107.957933  101.725775    179\n",
       "Popincourt              107.071606  152.286470    579\n",
       "Entrepôt                106.164481   77.030045    424\n",
       "Buttes-Montmartre        94.249118   85.384755    601\n",
       "Gobelins                 92.559554   54.730659    157\n",
       "Buttes-Chaumont          91.926890  115.389358    299\n",
       "Ménilmontant             84.909169   78.296367    313"
      ]
     },
     "execution_count": 88,
     "metadata": {},
     "output_type": "execute_result"
    }
   ],
   "source": [
    "# on construit des statistiques par quartier\n",
    "listing.groupby(\"neighbourhood_cleansed\")[\"price\"].agg(\n",
    "    [\"mean\",\"std\",\"count\"]).sort_values(by=\"mean\",\n",
    "                                        ascending=False)"
   ]
  },
  {
   "cell_type": "markdown",
   "metadata": {},
   "source": [
    "Si nous désirons étudier les variations par arrondissement et par type d’appartement, nous pourrons avoir deux clés pour notre groupby :"
   ]
  },
  {
   "cell_type": "code",
   "execution_count": 89,
   "metadata": {},
   "outputs": [
    {
     "data": {
      "text/plain": [
       "neighbourhood_cleansed  room_type      \n",
       "Batignolles-Monceau     Entire home/apt    118.807311\n",
       "                        Private room        59.476190\n",
       "Bourse                  Entire home/apt    132.477987\n",
       "                        Private room        70.500000\n",
       "Buttes-Chaumont         Entire home/apt     98.777020\n",
       "                        Private room        52.744186\n",
       "                        Shared room         30.000000\n",
       "Buttes-Montmartre       Entire home/apt     98.539635\n",
       "                        Private room        49.886792\n",
       "Entrepôt                Entire home/apt    111.014909\n",
       "                        Private room        58.282051\n",
       "Gobelins                Entire home/apt     99.413415\n",
       "                        Hotel room          99.000000\n",
       "                        Private room        66.818182\n",
       "Hôtel-de-Ville          Entire home/apt    156.541682\n",
       "                        Private room        68.928571\n",
       "                        Shared room         87.666667\n",
       "Louvre                  Entire home/apt    156.942157\n",
       "                        Private room        79.428571\n",
       "                        Shared room         85.000000\n",
       "Luxembourg              Entire home/apt    165.473333\n",
       "                        Private room        75.357143\n",
       "Ménilmontant            Entire home/apt     91.515358\n",
       "                        Private room        48.437500\n",
       "Observatoire            Entire home/apt    117.989527\n",
       "                        Private room        64.608696\n",
       "Opéra                   Entire home/apt    125.479424\n",
       "                        Private room        78.400000\n",
       "                        Shared room         53.000000\n",
       "Palais-Bourbon          Entire home/apt    166.810811\n",
       "                        Hotel room         490.000000\n",
       "                        Private room        49.000000\n",
       "Panthéon                Entire home/apt    141.941635\n",
       "                        Hotel room         193.000000\n",
       "                        Private room        65.588235\n",
       "Passy                   Entire home/apt    238.208428\n",
       "                        Hotel room         110.000000\n",
       "                        Private room        95.791667\n",
       "Popincourt              Entire home/apt    111.303664\n",
       "                        Private room        56.000000\n",
       "                        Shared room         39.000000\n",
       "Reuilly                 Entire home/apt    114.396581\n",
       "                        Private room        66.375000\n",
       "Temple                  Entire home/apt    146.761465\n",
       "                        Private room        71.600000\n",
       "Vaugirard               Entire home/apt    116.057890\n",
       "                        Private room        68.783784\n",
       "                        Shared room         46.000000\n",
       "Élysée                  Entire home/apt    274.123457\n",
       "                        Private room        79.000000\n",
       "Name: price, dtype: float64"
      ]
     },
     "execution_count": 89,
     "metadata": {},
     "output_type": "execute_result"
    }
   ],
   "source": [
    "listing.groupby([\"neighbourhood_cleansed\",\"room_type\"])[\"price\"].mean()"
   ]
  },
  {
   "cell_type": "markdown",
   "metadata": {},
   "source": [
    "De nombreuses autres applications sont disponibles avec le groupby."
   ]
  }
 ],
 "metadata": {
  "kernelspec": {
   "display_name": "Python 3 (ipykernel)",
   "language": "python",
   "name": "python3"
  },
  "language_info": {
   "codemirror_mode": {
    "name": "ipython",
    "version": 3
   },
   "file_extension": ".py",
   "mimetype": "text/x-python",
   "name": "python",
   "nbconvert_exporter": "python",
   "pygments_lexer": "ipython3",
   "version": "3.12.2"
  }
 },
 "nbformat": 4,
 "nbformat_minor": 4
}
